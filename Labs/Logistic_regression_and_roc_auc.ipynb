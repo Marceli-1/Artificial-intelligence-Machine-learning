{
 "cells": [
  {
   "cell_type": "markdown",
   "id": "04850f10",
   "metadata": {},
   "source": [
    "Solution by Marceli P"
   ]
  },
  {
   "cell_type": "markdown",
   "id": "27315215",
   "metadata": {},
   "source": [
    "Using the attached data set 'glass.csv' (the class is the last column of data) train 2 classifiers (previously dividing the set into training and testing with the parameter random_state = 0):\n",
    "- logistic regression algorithm,\n",
    "- random forest algorithm.\n",
    "\n",
    "On the basis of the test data set, generate an illustration of the error matrix using the plot_confusion_matrix function and calculate the accuracy of the classifier. Choose a better classifier based on the classifier's average precision.\n",
    "Plot the ROC curve and calculate its AUC."
   ]
  },
  {
   "cell_type": "code",
   "execution_count": 49,
   "id": "1e40783b",
   "metadata": {},
   "outputs": [],
   "source": [
    "import numpy as np\n",
    "from sklearn.model_selection import train_test_split\n",
    "from sklearn.linear_model import LogisticRegression\n",
    "from sklearn.metrics import accuracy_score\n",
    "from sklearn.ensemble import RandomForestClassifier\n",
    "import matplotlib.pyplot as plt\n",
    "from sklearn.metrics import plot_confusion_matrix\n",
    "from sklearn.metrics import roc_curve\n",
    "from sklearn.metrics import roc_auc_score, precision_score, recall_score, classification_report"
   ]
  },
  {
   "cell_type": "code",
   "execution_count": 50,
   "id": "9467d292",
   "metadata": {},
   "outputs": [],
   "source": [
    "data=np.loadtxt(\"glass.csv\",delimiter=\",\",skiprows=1)\n",
    "#print(data)"
   ]
  },
  {
   "cell_type": "code",
   "execution_count": 51,
   "id": "180b6b4c",
   "metadata": {},
   "outputs": [],
   "source": [
    "y=data[:,-1]#.astype(np.uint)\n",
    "X = data[:, :-1]\n",
    "X_train, X_test, y_train,y_test = train_test_split(X, y, random_state=0)"
   ]
  },
  {
   "cell_type": "code",
   "execution_count": 52,
   "id": "06cb8512",
   "metadata": {},
   "outputs": [
    {
     "name": "stdout",
     "output_type": "stream",
     "text": [
      "Average accuracy for logistic regression is:  55.55555555555556 %\n"
     ]
    }
   ],
   "source": [
    "#Logistic regression\n",
    "model_logreg = LogisticRegression(solver='lbfgs', max_iter=15000)\n",
    "model_logreg.fit(X_train,y_train)\n",
    "y_pred_logreg = model_logreg.predict(X_test)\n",
    "print (\"Average accuracy for logistic regression is: \", accuracy_score(y_test, y_pred_logreg) * 100, \"%\")"
   ]
  },
  {
   "cell_type": "code",
   "execution_count": 53,
   "id": "4d1b43e8",
   "metadata": {},
   "outputs": [
    {
     "name": "stdout",
     "output_type": "stream",
     "text": [
      "[0.53846154 0.52631579 0.         0.66666667 0.         0.66666667] [0.82352941 0.55555556 0.         0.66666667 0.         0.8       ]\n",
      "              precision    recall  f1-score   support\n",
      "\n",
      "         1.0       0.54      0.82      0.65        17\n",
      "         2.0       0.53      0.56      0.54        18\n",
      "         3.0       0.00      0.00      0.00         8\n",
      "         5.0       0.67      0.67      0.67         3\n",
      "         6.0       0.00      0.00      0.00         3\n",
      "         7.0       0.67      0.80      0.73         5\n",
      "\n",
      "    accuracy                           0.56        54\n",
      "   macro avg       0.40      0.47      0.43        54\n",
      "weighted avg       0.44      0.56      0.49        54\n",
      "\n"
     ]
    },
    {
     "name": "stderr",
     "output_type": "stream",
     "text": [
      "C:\\Users\\Marceli\\AppData\\Local\\Packages\\PythonSoftwareFoundation.Python.3.9_qbz5n2kfra8p0\\LocalCache\\local-packages\\Python39\\site-packages\\sklearn\\metrics\\_classification.py:1318: UndefinedMetricWarning: Precision is ill-defined and being set to 0.0 in labels with no predicted samples. Use `zero_division` parameter to control this behavior.\n",
      "  _warn_prf(average, modifier, msg_start, len(result))\n",
      "C:\\Users\\Marceli\\AppData\\Local\\Packages\\PythonSoftwareFoundation.Python.3.9_qbz5n2kfra8p0\\LocalCache\\local-packages\\Python39\\site-packages\\sklearn\\metrics\\_classification.py:1318: UndefinedMetricWarning: Precision and F-score are ill-defined and being set to 0.0 in labels with no predicted samples. Use `zero_division` parameter to control this behavior.\n",
      "  _warn_prf(average, modifier, msg_start, len(result))\n",
      "C:\\Users\\Marceli\\AppData\\Local\\Packages\\PythonSoftwareFoundation.Python.3.9_qbz5n2kfra8p0\\LocalCache\\local-packages\\Python39\\site-packages\\sklearn\\metrics\\_classification.py:1318: UndefinedMetricWarning: Precision and F-score are ill-defined and being set to 0.0 in labels with no predicted samples. Use `zero_division` parameter to control this behavior.\n",
      "  _warn_prf(average, modifier, msg_start, len(result))\n",
      "C:\\Users\\Marceli\\AppData\\Local\\Packages\\PythonSoftwareFoundation.Python.3.9_qbz5n2kfra8p0\\LocalCache\\local-packages\\Python39\\site-packages\\sklearn\\metrics\\_classification.py:1318: UndefinedMetricWarning: Precision and F-score are ill-defined and being set to 0.0 in labels with no predicted samples. Use `zero_division` parameter to control this behavior.\n",
      "  _warn_prf(average, modifier, msg_start, len(result))\n"
     ]
    }
   ],
   "source": [
    "precision = precision_score(y_test,y_pred_logreg,average=None)\n",
    "recall = recall_score(y_test,y_pred_logreg,average=None)\n",
    "print(precision,recall)\n",
    "print(classification_report(y_test,y_pred_logreg))"
   ]
  },
  {
   "cell_type": "code",
   "execution_count": 54,
   "id": "37c26f56",
   "metadata": {},
   "outputs": [
    {
     "name": "stderr",
     "output_type": "stream",
     "text": [
      "C:\\Users\\Marceli\\AppData\\Local\\Packages\\PythonSoftwareFoundation.Python.3.9_qbz5n2kfra8p0\\LocalCache\\local-packages\\Python39\\site-packages\\sklearn\\utils\\deprecation.py:87: FutureWarning: Function plot_confusion_matrix is deprecated; Function `plot_confusion_matrix` is deprecated in 1.0 and will be removed in 1.2. Use one of the class methods: ConfusionMatrixDisplay.from_predictions or ConfusionMatrixDisplay.from_estimator.\n",
      "  warnings.warn(msg, category=FutureWarning)\n"
     ]
    },
    {
     "data": {
      "image/png": "[encoded data removed]",
      "text/plain": [
       "<Figure size 432x288 with 2 Axes>"
      ]
     },
     "metadata": {
      "needs_background": "light"
     },
     "output_type": "display_data"
    }
   ],
   "source": [
    "plot = plot_confusion_matrix(model_logreg, X_test, y_test, normalize=None)#, display_labels=[0,1],cmap=plt.cm.Blues)\n",
    "plt.show()"
   ]
  },
  {
   "cell_type": "code",
   "execution_count": 55,
   "id": "f80ec47b",
   "metadata": {},
   "outputs": [
    {
     "name": "stdout",
     "output_type": "stream",
     "text": [
      "Average accuracy for random forest classifier is:  70.37037037037037 %\n"
     ]
    }
   ],
   "source": [
    "#Random forest classifier\n",
    "model_forests = RandomForestClassifier(n_estimators=200, max_leaf_nodes=15, random_state=0, n_jobs=-1)\n",
    "model_forests.fit(X_train, y_train)\n",
    "\n",
    "y_pred_forest=model_forests.predict(X_test)\n",
    "print (\"Average accuracy for random forest classifier is: \", accuracy_score(y_test, y_pred_forest) * 100, \"%\")"
   ]
  },
  {
   "cell_type": "code",
   "execution_count": 56,
   "id": "86b56f39",
   "metadata": {},
   "outputs": [],
   "source": [
    "#print(set(y_test) - set(y_pred_logreg))\n",
    "#print(set(y_test) - set(y_pred_forest))\n",
    "#Red notifications are shown, because of diffrent size of y_pred and y_test\n",
    "#and there is no F-score to be calculated for this arguments\n"
   ]
  },
  {
   "cell_type": "code",
   "execution_count": 57,
   "id": "fed8e77c",
   "metadata": {},
   "outputs": [
    {
     "name": "stdout",
     "output_type": "stream",
     "text": [
      "[0.61538462 0.77777778 0.         1.         1.         0.66666667] [0.94117647 0.77777778 0.         0.66666667 0.66666667 0.8       ]\n",
      "              precision    recall  f1-score   support\n",
      "\n",
      "         1.0       0.62      0.94      0.74        17\n",
      "         2.0       0.78      0.78      0.78        18\n",
      "         3.0       0.00      0.00      0.00         8\n",
      "         5.0       1.00      0.67      0.80         3\n",
      "         6.0       1.00      0.67      0.80         3\n",
      "         7.0       0.67      0.80      0.73         5\n",
      "\n",
      "    accuracy                           0.70        54\n",
      "   macro avg       0.68      0.64      0.64        54\n",
      "weighted avg       0.63      0.70      0.65        54\n",
      "\n"
     ]
    },
    {
     "name": "stderr",
     "output_type": "stream",
     "text": [
      "C:\\Users\\Marceli\\AppData\\Local\\Packages\\PythonSoftwareFoundation.Python.3.9_qbz5n2kfra8p0\\LocalCache\\local-packages\\Python39\\site-packages\\sklearn\\metrics\\_classification.py:1318: UndefinedMetricWarning: Precision is ill-defined and being set to 0.0 in labels with no predicted samples. Use `zero_division` parameter to control this behavior.\n",
      "  _warn_prf(average, modifier, msg_start, len(result))\n",
      "C:\\Users\\Marceli\\AppData\\Local\\Packages\\PythonSoftwareFoundation.Python.3.9_qbz5n2kfra8p0\\LocalCache\\local-packages\\Python39\\site-packages\\sklearn\\metrics\\_classification.py:1318: UndefinedMetricWarning: Precision and F-score are ill-defined and being set to 0.0 in labels with no predicted samples. Use `zero_division` parameter to control this behavior.\n",
      "  _warn_prf(average, modifier, msg_start, len(result))\n",
      "C:\\Users\\Marceli\\AppData\\Local\\Packages\\PythonSoftwareFoundation.Python.3.9_qbz5n2kfra8p0\\LocalCache\\local-packages\\Python39\\site-packages\\sklearn\\metrics\\_classification.py:1318: UndefinedMetricWarning: Precision and F-score are ill-defined and being set to 0.0 in labels with no predicted samples. Use `zero_division` parameter to control this behavior.\n",
      "  _warn_prf(average, modifier, msg_start, len(result))\n",
      "C:\\Users\\Marceli\\AppData\\Local\\Packages\\PythonSoftwareFoundation.Python.3.9_qbz5n2kfra8p0\\LocalCache\\local-packages\\Python39\\site-packages\\sklearn\\metrics\\_classification.py:1318: UndefinedMetricWarning: Precision and F-score are ill-defined and being set to 0.0 in labels with no predicted samples. Use `zero_division` parameter to control this behavior.\n",
      "  _warn_prf(average, modifier, msg_start, len(result))\n"
     ]
    }
   ],
   "source": [
    "precision = precision_score(y_test,y_pred_forest,average=None)\n",
    "recall = recall_score(y_test,y_pred_forest,average=None)\n",
    "print(precision,recall)\n",
    "print(classification_report(y_test,y_pred_forest))"
   ]
  },
  {
   "cell_type": "code",
   "execution_count": 58,
   "id": "c5e14959",
   "metadata": {},
   "outputs": [
    {
     "name": "stderr",
     "output_type": "stream",
     "text": [
      "C:\\Users\\Marceli\\AppData\\Local\\Packages\\PythonSoftwareFoundation.Python.3.9_qbz5n2kfra8p0\\LocalCache\\local-packages\\Python39\\site-packages\\sklearn\\utils\\deprecation.py:87: FutureWarning: Function plot_confusion_matrix is deprecated; Function `plot_confusion_matrix` is deprecated in 1.0 and will be removed in 1.2. Use one of the class methods: ConfusionMatrixDisplay.from_predictions or ConfusionMatrixDisplay.from_estimator.\n",
      "  warnings.warn(msg, category=FutureWarning)\n"
     ]
    },
    {
     "data": {
      "image/png": "[encoded data removed]",
      "text/plain": [
       "<Figure size 432x288 with 2 Axes>"
      ]
     },
     "metadata": {
      "needs_background": "light"
     },
     "output_type": "display_data"
    }
   ],
   "source": [
    "plot = plot_confusion_matrix(model_forests, X_test, y_test, normalize=None)#, display_labels=[0,1],cmap=plt.cm.Blues)\n",
    "plt.show()"
   ]
  },
  {
   "cell_type": "markdown",
   "id": "4b62da6f",
   "metadata": {},
   "source": [
    "Klasyfikator lasów uzyskał większą dokładność"
   ]
  },
  {
   "cell_type": "code",
   "execution_count": 59,
   "id": "21ea4660",
   "metadata": {},
   "outputs": [
    {
     "data": {
      "image/png": "[encoded data removed]",
      "text/plain": [
       "<Figure size 432x288 with 1 Axes>"
      ]
     },
     "metadata": {
      "needs_background": "light"
     },
     "output_type": "display_data"
    }
   ],
   "source": [
    "FPR, TPR, _ = roc_curve(y_test, y_pred_forest, pos_label=7)\n",
    "plt.plot(FPR, TPR, color='red')\n",
    "plt.xlabel('FPR - False Positive Rate')\n",
    "plt.ylabel('TPR - True Positive Rate')\n",
    "plt.show()"
   ]
  },
  {
   "cell_type": "code",
   "execution_count": 60,
   "id": "5ec3525d",
   "metadata": {
    "scrolled": true
   },
   "outputs": [
    {
     "name": "stdout",
     "output_type": "stream",
     "text": [
      "0.9345007262164126\n"
     ]
    }
   ],
   "source": [
    "#For roc_auc_score my matrix shape should be (number_of_labels, number_of_classes) (?)\n",
    "#To solve axis error I used predict_proba:\n",
    "auc = roc_auc_score(y_test, model_forests.predict_proba(X_test), multi_class='ovo')\n",
    "print(auc)"
   ]
  },
  {
   "cell_type": "markdown",
   "id": "943ba086",
   "metadata": {},
   "source": [
    "Due to multi-class problem this result may be irrelevant"
   ]
  }
 ],
 "metadata": {
  "kernelspec": {
   "display_name": "Python 3 (ipykernel)",
   "language": "python",
   "name": "python3"
  },
  "language_info": {
   "codemirror_mode": {
    "name": "ipython",
    "version": 3
   },
   "file_extension": ".py",
   "mimetype": "text/x-python",
   "name": "python",
   "nbconvert_exporter": "python",
   "pygments_lexer": "ipython3",
   "version": "3.9.12"
  }
 },
 "nbformat": 4,
 "nbformat_minor": 5
}
