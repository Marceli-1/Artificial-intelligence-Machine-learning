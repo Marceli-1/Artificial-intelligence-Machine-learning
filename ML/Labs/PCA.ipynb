{
 "cells": [
  {
   "cell_type": "markdown",
   "id": "0b3d893d",
   "metadata": {},
   "source": [
    "Solution by Marceli P"
   ]
  },
  {
   "cell_type": "markdown",
   "id": "2b5fb89e",
   "metadata": {},
   "source": [
    "1. Complete the activity started in class by training a logistic regression model to identify the type of leukemia. Use the C: [1.0, 10.0, 100.0, 1000.0] parameter grid search and train the model for up to 1000 epochs. Give the accuracy of the obtained model on the test set."
   ]
  },
  {
   "cell_type": "code",
   "execution_count": 6,
   "id": "0ed84977",
   "metadata": {},
   "outputs": [],
   "source": [
    "import numpy as np\n",
    "import pandas as pd\n",
    "from sklearn import preprocessing\n",
    "from sklearn.model_selection import train_test_split\n",
    "from sklearn.decomposition import PCA, IncrementalPCA\n",
    "import matplotlib.pyplot as plt\n",
    "from sklearn.metrics import balanced_accuracy_score"
   ]
  },
  {
   "cell_type": "code",
   "execution_count": 7,
   "id": "c0fd7cb3",
   "metadata": {},
   "outputs": [],
   "source": [
    "df = pd.read_csv('Leukemia.csv', sep=',')"
   ]
  },
  {
   "cell_type": "code",
   "execution_count": 8,
   "id": "6ba0dca3",
   "metadata": {},
   "outputs": [
    {
     "data": {
      "text/html": [
       "<div>\n",
       "<style scoped>\n",
       "    .dataframe tbody tr th:only-of-type {\n",
       "        vertical-align: middle;\n",
       "    }\n",
       "\n",
       "    .dataframe tbody tr th {\n",
       "        vertical-align: top;\n",
       "    }\n",
       "\n",
       "    .dataframe thead th {\n",
       "        text-align: right;\n",
       "    }\n",
       "</style>\n",
       "<table border=\"1\" class=\"dataframe\">\n",
       "  <thead>\n",
       "    <tr style=\"text-align: right;\">\n",
       "      <th></th>\n",
       "      <th>samples</th>\n",
       "      <th>0 – szpikowa CD34 1 – szpikowa 2 – ostra szpikowa 3 – limfoblastyczna 4 – limfoblastyczna CD34</th>\n",
       "      <th>1007_s_at</th>\n",
       "      <th>1053_at</th>\n",
       "      <th>117_at</th>\n",
       "      <th>121_at</th>\n",
       "      <th>1255_g_at</th>\n",
       "      <th>1294_at</th>\n",
       "      <th>1316_at</th>\n",
       "      <th>1320_at</th>\n",
       "      <th>...</th>\n",
       "      <th>AFFX-r2-Hs28SrRNA-5_at</th>\n",
       "      <th>AFFX-r2-Hs28SrRNA-M_at</th>\n",
       "      <th>AFFX-r2-P1-cre-3_at</th>\n",
       "      <th>AFFX-r2-P1-cre-5_at</th>\n",
       "      <th>AFFX-ThrX-3_at</th>\n",
       "      <th>AFFX-ThrX-5_at</th>\n",
       "      <th>AFFX-ThrX-M_at</th>\n",
       "      <th>AFFX-TrpnX-3_at</th>\n",
       "      <th>AFFX-TrpnX-5_at</th>\n",
       "      <th>AFFX-TrpnX-M_at</th>\n",
       "    </tr>\n",
       "  </thead>\n",
       "  <tbody>\n",
       "    <tr>\n",
       "      <th>0</th>\n",
       "      <td>1</td>\n",
       "      <td>0</td>\n",
       "      <td>7.745245</td>\n",
       "      <td>7.811210</td>\n",
       "      <td>6.477916</td>\n",
       "      <td>8.841506</td>\n",
       "      <td>4.546941</td>\n",
       "      <td>7.957714</td>\n",
       "      <td>5.344999</td>\n",
       "      <td>4.673364</td>\n",
       "      <td>...</td>\n",
       "      <td>5.058849</td>\n",
       "      <td>6.810004</td>\n",
       "      <td>12.800060</td>\n",
       "      <td>12.718612</td>\n",
       "      <td>5.391512</td>\n",
       "      <td>4.666166</td>\n",
       "      <td>3.974759</td>\n",
       "      <td>3.656693</td>\n",
       "      <td>4.160622</td>\n",
       "      <td>4.139249</td>\n",
       "    </tr>\n",
       "    <tr>\n",
       "      <th>1</th>\n",
       "      <td>12</td>\n",
       "      <td>0</td>\n",
       "      <td>8.087252</td>\n",
       "      <td>7.240673</td>\n",
       "      <td>8.584648</td>\n",
       "      <td>8.983571</td>\n",
       "      <td>4.548934</td>\n",
       "      <td>8.011652</td>\n",
       "      <td>5.579647</td>\n",
       "      <td>4.828184</td>\n",
       "      <td>...</td>\n",
       "      <td>4.436153</td>\n",
       "      <td>6.751471</td>\n",
       "      <td>12.472706</td>\n",
       "      <td>12.333593</td>\n",
       "      <td>5.379738</td>\n",
       "      <td>4.656786</td>\n",
       "      <td>4.188348</td>\n",
       "      <td>3.792535</td>\n",
       "      <td>4.204414</td>\n",
       "      <td>4.122700</td>\n",
       "    </tr>\n",
       "    <tr>\n",
       "      <th>2</th>\n",
       "      <td>13</td>\n",
       "      <td>0</td>\n",
       "      <td>7.792056</td>\n",
       "      <td>7.549368</td>\n",
       "      <td>11.053504</td>\n",
       "      <td>8.909703</td>\n",
       "      <td>4.549328</td>\n",
       "      <td>8.237099</td>\n",
       "      <td>5.406489</td>\n",
       "      <td>4.615572</td>\n",
       "      <td>...</td>\n",
       "      <td>4.392061</td>\n",
       "      <td>6.086295</td>\n",
       "      <td>12.637384</td>\n",
       "      <td>12.499038</td>\n",
       "      <td>5.316604</td>\n",
       "      <td>4.600566</td>\n",
       "      <td>3.845561</td>\n",
       "      <td>3.635715</td>\n",
       "      <td>4.174199</td>\n",
       "      <td>4.067152</td>\n",
       "    </tr>\n",
       "    <tr>\n",
       "      <th>3</th>\n",
       "      <td>14</td>\n",
       "      <td>0</td>\n",
       "      <td>7.767265</td>\n",
       "      <td>7.094460</td>\n",
       "      <td>11.816433</td>\n",
       "      <td>8.994654</td>\n",
       "      <td>4.697018</td>\n",
       "      <td>8.283412</td>\n",
       "      <td>5.582195</td>\n",
       "      <td>4.903684</td>\n",
       "      <td>...</td>\n",
       "      <td>4.633334</td>\n",
       "      <td>6.375991</td>\n",
       "      <td>12.903630</td>\n",
       "      <td>12.871454</td>\n",
       "      <td>5.179951</td>\n",
       "      <td>4.641952</td>\n",
       "      <td>3.991634</td>\n",
       "      <td>3.704587</td>\n",
       "      <td>4.149938</td>\n",
       "      <td>3.910150</td>\n",
       "    </tr>\n",
       "    <tr>\n",
       "      <th>4</th>\n",
       "      <td>15</td>\n",
       "      <td>0</td>\n",
       "      <td>8.010117</td>\n",
       "      <td>7.405281</td>\n",
       "      <td>6.656049</td>\n",
       "      <td>9.050682</td>\n",
       "      <td>4.514986</td>\n",
       "      <td>8.377046</td>\n",
       "      <td>5.493713</td>\n",
       "      <td>4.860754</td>\n",
       "      <td>...</td>\n",
       "      <td>5.305192</td>\n",
       "      <td>6.700453</td>\n",
       "      <td>12.949352</td>\n",
       "      <td>12.782515</td>\n",
       "      <td>5.341689</td>\n",
       "      <td>4.560315</td>\n",
       "      <td>3.887020</td>\n",
       "      <td>3.629853</td>\n",
       "      <td>4.127513</td>\n",
       "      <td>4.004316</td>\n",
       "    </tr>\n",
       "  </tbody>\n",
       "</table>\n",
       "<p>5 rows × 22285 columns</p>\n",
       "</div>"
      ],
      "text/plain": [
       "   samples  \\\n",
       "0        1   \n",
       "1       12   \n",
       "2       13   \n",
       "3       14   \n",
       "4       15   \n",
       "\n",
       "   0 – szpikowa CD34 1 – szpikowa 2 – ostra szpikowa 3 – limfoblastyczna 4 – limfoblastyczna CD34  \\\n",
       "0                                                  0                                                \n",
       "1                                                  0                                                \n",
       "2                                                  0                                                \n",
       "3                                                  0                                                \n",
       "4                                                  0                                                \n",
       "\n",
       "   1007_s_at   1053_at     117_at    121_at  1255_g_at   1294_at   1316_at  \\\n",
       "0   7.745245  7.811210   6.477916  8.841506   4.546941  7.957714  5.344999   \n",
       "1   8.087252  7.240673   8.584648  8.983571   4.548934  8.011652  5.579647   \n",
       "2   7.792056  7.549368  11.053504  8.909703   4.549328  8.237099  5.406489   \n",
       "3   7.767265  7.094460  11.816433  8.994654   4.697018  8.283412  5.582195   \n",
       "4   8.010117  7.405281   6.656049  9.050682   4.514986  8.377046  5.493713   \n",
       "\n",
       "    1320_at  ...  AFFX-r2-Hs28SrRNA-5_at  AFFX-r2-Hs28SrRNA-M_at  \\\n",
       "0  4.673364  ...                5.058849                6.810004   \n",
       "1  4.828184  ...                4.436153                6.751471   \n",
       "2  4.615572  ...                4.392061                6.086295   \n",
       "3  4.903684  ...                4.633334                6.375991   \n",
       "4  4.860754  ...                5.305192                6.700453   \n",
       "\n",
       "   AFFX-r2-P1-cre-3_at  AFFX-r2-P1-cre-5_at  AFFX-ThrX-3_at  AFFX-ThrX-5_at  \\\n",
       "0            12.800060            12.718612        5.391512        4.666166   \n",
       "1            12.472706            12.333593        5.379738        4.656786   \n",
       "2            12.637384            12.499038        5.316604        4.600566   \n",
       "3            12.903630            12.871454        5.179951        4.641952   \n",
       "4            12.949352            12.782515        5.341689        4.560315   \n",
       "\n",
       "   AFFX-ThrX-M_at  AFFX-TrpnX-3_at  AFFX-TrpnX-5_at  AFFX-TrpnX-M_at  \n",
       "0        3.974759         3.656693         4.160622         4.139249  \n",
       "1        4.188348         3.792535         4.204414         4.122700  \n",
       "2        3.845561         3.635715         4.174199         4.067152  \n",
       "3        3.991634         3.704587         4.149938         3.910150  \n",
       "4        3.887020         3.629853         4.127513         4.004316  \n",
       "\n",
       "[5 rows x 22285 columns]"
      ]
     },
     "execution_count": 8,
     "metadata": {},
     "output_type": "execute_result"
    }
   ],
   "source": [
    "df.head()"
   ]
  },
  {
   "cell_type": "code",
   "execution_count": 9,
   "id": "7c9c28e1",
   "metadata": {},
   "outputs": [],
   "source": [
    "y = df.iloc[:,1] #Ommiting samples\n",
    "x = df.iloc[:,2:]"
   ]
  },
  {
   "cell_type": "code",
   "execution_count": 10,
   "id": "8b8c9d9f",
   "metadata": {},
   "outputs": [],
   "source": [
    "normalizer=preprocessing.Normalizer().fit(x)\n",
    "X=normalizer.transform(x)"
   ]
  },
  {
   "cell_type": "code",
   "execution_count": 11,
   "id": "3823bca3",
   "metadata": {},
   "outputs": [
    {
     "name": "stdout",
     "output_type": "stream",
     "text": [
      "(256, 22283) (256,)\n"
     ]
    }
   ],
   "source": [
    "print(X.shape, y.shape)"
   ]
  },
  {
   "cell_type": "code",
   "execution_count": 12,
   "id": "e39e71df",
   "metadata": {},
   "outputs": [],
   "source": [
    "X_train, X_test, y_train, y_test = train_test_split(X, y, test_size=0.3)"
   ]
  },
  {
   "cell_type": "code",
   "execution_count": 13,
   "id": "4a76fe14",
   "metadata": {},
   "outputs": [
    {
     "data": {
      "text/plain": [
       "PCA(n_components=10)"
      ]
     },
     "execution_count": 13,
     "metadata": {},
     "output_type": "execute_result"
    }
   ],
   "source": [
    "pca=PCA(n_components=10)\n",
    "pca.fit(X_train)"
   ]
  },
  {
   "cell_type": "code",
   "execution_count": 14,
   "id": "1a1256b6",
   "metadata": {},
   "outputs": [
    {
     "name": "stdout",
     "output_type": "stream",
     "text": [
      "[0.33749868 0.098491   0.09660191 0.05695582 0.04610227 0.04254371\n",
      " 0.02807275 0.0263075  0.01857345 0.01646542]\n"
     ]
    }
   ],
   "source": [
    "print(pca.explained_variance_ratio_)"
   ]
  },
  {
   "cell_type": "code",
   "execution_count": 15,
   "id": "221a8503",
   "metadata": {},
   "outputs": [
    {
     "name": "stdout",
     "output_type": "stream",
     "text": [
      "0.7676125197129322\n"
     ]
    }
   ],
   "source": [
    "print(np.sum(pca.explained_variance_ratio_))"
   ]
  },
  {
   "cell_type": "code",
   "execution_count": 16,
   "id": "62260610",
   "metadata": {},
   "outputs": [
    {
     "name": "stdout",
     "output_type": "stream",
     "text": [
      "[0.33749868 0.098491   0.09660191 0.05695582 0.04610227 0.04254371\n",
      " 0.02807275 0.0263075  0.01857348 0.0164655 ]\n",
      "[0.33749868 0.43598968 0.53259159 0.58954741 0.63564969 0.6781934\n",
      " 0.70626615 0.73257365 0.75114714 0.76761263]\n"
     ]
    }
   ],
   "source": [
    "pca=PCA()\n",
    "pca.fit(X_train)\n",
    "print(pca.explained_variance_ratio_[:10])\n",
    "total_sum=np.cumsum(pca.explained_variance_ratio_)\n",
    "print(total_sum[:10])"
   ]
  },
  {
   "cell_type": "code",
   "execution_count": 17,
   "id": "00be910e",
   "metadata": {},
   "outputs": [
    {
     "name": "stdout",
     "output_type": "stream",
     "text": [
      "25\n"
     ]
    }
   ],
   "source": [
    "components=np.argmax(total_sum>=0.9)+1\n",
    "print(components)"
   ]
  },
  {
   "cell_type": "code",
   "execution_count": 18,
   "id": "5e392716",
   "metadata": {},
   "outputs": [
    {
     "data": {
      "image/png": "[encoded data removed]",
      "text/plain": [
       "<Figure size 432x288 with 1 Axes>"
      ]
     },
     "metadata": {
      "needs_background": "light"
     },
     "output_type": "display_data"
    }
   ],
   "source": [
    "args=np.arange(1,total_sum.size+1)\n",
    "fig,ax=plt.subplots()\n",
    "ax.plot(args,total_sum*100)\n",
    "ax.set_ylim(105,40)\n",
    "plt.show()"
   ]
  },
  {
   "cell_type": "code",
   "execution_count": 19,
   "id": "f847f1d8",
   "metadata": {},
   "outputs": [
    {
     "data": {
      "text/plain": [
       "PCA(n_components=25)"
      ]
     },
     "execution_count": 19,
     "metadata": {},
     "output_type": "execute_result"
    }
   ],
   "source": [
    "pca=PCA(n_components=components)\n",
    "pca.fit(X_train)"
   ]
  },
  {
   "cell_type": "code",
   "execution_count": 20,
   "id": "ddd95c88",
   "metadata": {},
   "outputs": [],
   "source": [
    "X_train_pca=pca.transform(X_train)\n",
    "X_test_pca=pca.transform(X_test)"
   ]
  },
  {
   "cell_type": "code",
   "execution_count": 21,
   "id": "4b766358",
   "metadata": {},
   "outputs": [
    {
     "name": "stdout",
     "output_type": "stream",
     "text": [
      "(179, 25) (77, 25)\n"
     ]
    }
   ],
   "source": [
    "print(X_train_pca.shape, X_test_pca.shape)"
   ]
  },
  {
   "cell_type": "code",
   "execution_count": 22,
   "id": "ca05f50a",
   "metadata": {},
   "outputs": [
    {
     "name": "stdout",
     "output_type": "stream",
     "text": [
      "(179, 25)\n"
     ]
    }
   ],
   "source": [
    "in_pca=IncrementalPCA(n_components=components,batch_size=100)\n",
    "X_in_pca=in_pca.fit_transform(X_train)\n",
    "print(X_in_pca.shape)"
   ]
  },
  {
   "cell_type": "code",
   "execution_count": 23,
   "id": "54ce347d",
   "metadata": {},
   "outputs": [
    {
     "data": {
      "image/png": "[encoded data removed]",
      "text/plain": [
       "<Figure size 432x288 with 2 Axes>"
      ]
     },
     "metadata": {
      "needs_background": "light"
     },
     "output_type": "display_data"
    }
   ],
   "source": [
    "colors=['r','g','b','y','black']\n",
    "targets=np.arange(0,5,1)\n",
    "\n",
    "fig, (ax1,ax2)=plt.subplots(1,2)\n",
    "for color, i, type in zip(colors,targets, y_train):\n",
    "    ax1.set_title(\"Po PCA\")\n",
    "    ax1.scatter(X_train_pca[y_train==i,0],X_train_pca[y_train==i,2],color=color,label=type)\n",
    "    ax2.set_title(\"Przed PCA\")\n",
    "    ax2.scatter(X_train[y_train==i,0],X_train[y_train==i,2],color=color,label=type)\n",
    "plt.legend(['Szpikowa gen CD34', 'szpikowa', 'ostra', 'limfob', 'limfob gen CD34'])\n",
    "plt.tight_layout()\n",
    "plt.show()"
   ]
  },
  {
   "cell_type": "code",
   "execution_count": 24,
   "id": "0b40f076",
   "metadata": {},
   "outputs": [],
   "source": [
    "from sklearn.linear_model import LogisticRegression\n",
    "from sklearn.model_selection import GridSearchCV"
   ]
  },
  {
   "cell_type": "code",
   "execution_count": 25,
   "id": "ae671a0e",
   "metadata": {},
   "outputs": [
    {
     "name": "stdout",
     "output_type": "stream",
     "text": [
      "Tuned hyperparameters :(the best parameters)  {'C': 100.0}\n",
      "Best score : 1.0\n"
     ]
    }
   ],
   "source": [
    "logreg = LogisticRegression(max_iter=1000)\n",
    "grid_all = {\"C\": [1.0, 10.0, 100.0, 1000.0]}\n",
    "\n",
    "logreg_cv = GridSearchCV(logreg, grid_all, cv=10)\n",
    "logreg_cv.fit(X_train_pca,y_train)\n",
    "\n",
    "print(\"Tuned hyperparameters :(the best parameters) \" , logreg_cv.best_params_)\n",
    "print(\"Best score :\" , logreg_cv.best_score_)"
   ]
  },
  {
   "cell_type": "code",
   "execution_count": 26,
   "id": "7fbce058",
   "metadata": {},
   "outputs": [],
   "source": [
    "y_test_pred =logreg_cv.predict(X_test_pca)"
   ]
  },
  {
   "cell_type": "code",
   "execution_count": 27,
   "id": "b8601d47",
   "metadata": {},
   "outputs": [
    {
     "name": "stdout",
     "output_type": "stream",
     "text": [
      "Balanced accuracy score : 1.0\n",
      "Average accuracy is:  100.0 %\n"
     ]
    }
   ],
   "source": [
    "from sklearn.metrics import balanced_accuracy_score\n",
    "from sklearn.metrics import accuracy_score\n",
    "\n",
    "print(\"Balanced accuracy score :\", balanced_accuracy_score(y_test, y_test_pred))\n",
    "print (\"Average accuracy is: \", accuracy_score(y_test, y_test_pred) * 100, \"%\")"
   ]
  },
  {
   "cell_type": "markdown",
   "id": "bf245e40",
   "metadata": {},
   "source": [
    "2. The file 'chronic_kidney_disease.csv' contains medical measurements of 400 patients suspected of chronic renal failure. Using PCA, generate a scree plot for a range of 1 to 13 principal components for the normalized and non-normalized data (use StandardScaler on the training set and then the trained transformation on the test set). Then, determine the number of principal components explaining 90% of the variability of the output model for the normalized data.\n",
    "\n",
    "Train 2 logistic regression models - one on the complete data, the other on PCA data for 5 components, give their average accuracy on the test set. Train the model for the C parameters grid: [1.0, 10.0, 100.0, 1000.0].\n",
    "\n",
    "The last column 'Class' contains labels of the final diagnosis (0 - healthy person, 1 - sick person)."
   ]
  },
  {
   "cell_type": "code",
   "execution_count": 28,
   "id": "ad3773c9",
   "metadata": {},
   "outputs": [],
   "source": [
    "df_kidney = pd.read_csv('chronic_kidney_disease.csv', sep=',')"
   ]
  },
  {
   "cell_type": "code",
   "execution_count": 29,
   "id": "b00bd6c1",
   "metadata": {},
   "outputs": [
    {
     "data": {
      "text/html": [
       "<div>\n",
       "<style scoped>\n",
       "    .dataframe tbody tr th:only-of-type {\n",
       "        vertical-align: middle;\n",
       "    }\n",
       "\n",
       "    .dataframe tbody tr th {\n",
       "        vertical-align: top;\n",
       "    }\n",
       "\n",
       "    .dataframe thead th {\n",
       "        text-align: right;\n",
       "    }\n",
       "</style>\n",
       "<table border=\"1\" class=\"dataframe\">\n",
       "  <thead>\n",
       "    <tr style=\"text-align: right;\">\n",
       "      <th></th>\n",
       "      <th>Bp</th>\n",
       "      <th>Sg</th>\n",
       "      <th>Al</th>\n",
       "      <th>Su</th>\n",
       "      <th>Rbc</th>\n",
       "      <th>Bu</th>\n",
       "      <th>Sc</th>\n",
       "      <th>Sod</th>\n",
       "      <th>Pot</th>\n",
       "      <th>Hemo</th>\n",
       "      <th>Wbcc</th>\n",
       "      <th>Rbcc</th>\n",
       "      <th>Htn</th>\n",
       "      <th>Class</th>\n",
       "    </tr>\n",
       "  </thead>\n",
       "  <tbody>\n",
       "    <tr>\n",
       "      <th>0</th>\n",
       "      <td>80.0</td>\n",
       "      <td>1.020</td>\n",
       "      <td>1.0</td>\n",
       "      <td>0.0</td>\n",
       "      <td>1.0</td>\n",
       "      <td>36.0</td>\n",
       "      <td>1.2</td>\n",
       "      <td>137.53</td>\n",
       "      <td>4.63</td>\n",
       "      <td>15.4</td>\n",
       "      <td>7800.0</td>\n",
       "      <td>5.20</td>\n",
       "      <td>1.0</td>\n",
       "      <td>1</td>\n",
       "    </tr>\n",
       "    <tr>\n",
       "      <th>1</th>\n",
       "      <td>50.0</td>\n",
       "      <td>1.020</td>\n",
       "      <td>4.0</td>\n",
       "      <td>0.0</td>\n",
       "      <td>1.0</td>\n",
       "      <td>18.0</td>\n",
       "      <td>0.8</td>\n",
       "      <td>137.53</td>\n",
       "      <td>4.63</td>\n",
       "      <td>11.3</td>\n",
       "      <td>6000.0</td>\n",
       "      <td>4.71</td>\n",
       "      <td>0.0</td>\n",
       "      <td>1</td>\n",
       "    </tr>\n",
       "    <tr>\n",
       "      <th>2</th>\n",
       "      <td>80.0</td>\n",
       "      <td>1.010</td>\n",
       "      <td>2.0</td>\n",
       "      <td>3.0</td>\n",
       "      <td>1.0</td>\n",
       "      <td>53.0</td>\n",
       "      <td>1.8</td>\n",
       "      <td>137.53</td>\n",
       "      <td>4.63</td>\n",
       "      <td>9.6</td>\n",
       "      <td>7500.0</td>\n",
       "      <td>4.71</td>\n",
       "      <td>0.0</td>\n",
       "      <td>1</td>\n",
       "    </tr>\n",
       "    <tr>\n",
       "      <th>3</th>\n",
       "      <td>70.0</td>\n",
       "      <td>1.005</td>\n",
       "      <td>4.0</td>\n",
       "      <td>0.0</td>\n",
       "      <td>1.0</td>\n",
       "      <td>56.0</td>\n",
       "      <td>3.8</td>\n",
       "      <td>111.00</td>\n",
       "      <td>2.50</td>\n",
       "      <td>11.2</td>\n",
       "      <td>6700.0</td>\n",
       "      <td>3.90</td>\n",
       "      <td>1.0</td>\n",
       "      <td>1</td>\n",
       "    </tr>\n",
       "    <tr>\n",
       "      <th>4</th>\n",
       "      <td>80.0</td>\n",
       "      <td>1.010</td>\n",
       "      <td>2.0</td>\n",
       "      <td>0.0</td>\n",
       "      <td>1.0</td>\n",
       "      <td>26.0</td>\n",
       "      <td>1.4</td>\n",
       "      <td>137.53</td>\n",
       "      <td>4.63</td>\n",
       "      <td>11.6</td>\n",
       "      <td>7300.0</td>\n",
       "      <td>4.60</td>\n",
       "      <td>0.0</td>\n",
       "      <td>1</td>\n",
       "    </tr>\n",
       "  </tbody>\n",
       "</table>\n",
       "</div>"
      ],
      "text/plain": [
       "     Bp     Sg   Al   Su  Rbc    Bu   Sc     Sod   Pot  Hemo    Wbcc  Rbcc  \\\n",
       "0  80.0  1.020  1.0  0.0  1.0  36.0  1.2  137.53  4.63  15.4  7800.0  5.20   \n",
       "1  50.0  1.020  4.0  0.0  1.0  18.0  0.8  137.53  4.63  11.3  6000.0  4.71   \n",
       "2  80.0  1.010  2.0  3.0  1.0  53.0  1.8  137.53  4.63   9.6  7500.0  4.71   \n",
       "3  70.0  1.005  4.0  0.0  1.0  56.0  3.8  111.00  2.50  11.2  6700.0  3.90   \n",
       "4  80.0  1.010  2.0  0.0  1.0  26.0  1.4  137.53  4.63  11.6  7300.0  4.60   \n",
       "\n",
       "   Htn  Class  \n",
       "0  1.0      1  \n",
       "1  0.0      1  \n",
       "2  0.0      1  \n",
       "3  1.0      1  \n",
       "4  0.0      1  "
      ]
     },
     "execution_count": 29,
     "metadata": {},
     "output_type": "execute_result"
    }
   ],
   "source": [
    "df_kidney.head()"
   ]
  },
  {
   "cell_type": "code",
   "execution_count": 30,
   "id": "7fa2d279",
   "metadata": {},
   "outputs": [
    {
     "name": "stdout",
     "output_type": "stream",
     "text": [
      "<class 'pandas.core.frame.DataFrame'>\n",
      "RangeIndex: 400 entries, 0 to 399\n",
      "Data columns (total 14 columns):\n",
      " #   Column  Non-Null Count  Dtype  \n",
      "---  ------  --------------  -----  \n",
      " 0   Bp      400 non-null    float64\n",
      " 1   Sg      400 non-null    float64\n",
      " 2   Al      400 non-null    float64\n",
      " 3   Su      400 non-null    float64\n",
      " 4   Rbc     400 non-null    float64\n",
      " 5   Bu      400 non-null    float64\n",
      " 6   Sc      400 non-null    float64\n",
      " 7   Sod     400 non-null    float64\n",
      " 8   Pot     400 non-null    float64\n",
      " 9   Hemo    400 non-null    float64\n",
      " 10  Wbcc    400 non-null    float64\n",
      " 11  Rbcc    400 non-null    float64\n",
      " 12  Htn     400 non-null    float64\n",
      " 13  Class   400 non-null    int64  \n",
      "dtypes: float64(13), int64(1)\n",
      "memory usage: 43.9 KB\n"
     ]
    }
   ],
   "source": [
    "df_kidney.info()"
   ]
  },
  {
   "cell_type": "code",
   "execution_count": 31,
   "id": "4f3867cb",
   "metadata": {},
   "outputs": [
    {
     "name": "stdout",
     "output_type": "stream",
     "text": [
      "(400, 13) (400,)\n"
     ]
    }
   ],
   "source": [
    "x = df_kidney.iloc[:,:13]\n",
    "y = df_kidney.iloc[:,13]\n",
    "print(x.shape, y.shape)"
   ]
  },
  {
   "cell_type": "code",
   "execution_count": 32,
   "id": "974651af",
   "metadata": {},
   "outputs": [],
   "source": [
    "#print(x)\n",
    "#print(y)"
   ]
  },
  {
   "cell_type": "code",
   "execution_count": 33,
   "id": "574a2ff7",
   "metadata": {},
   "outputs": [],
   "source": [
    "X_train, X_test, y_train, y_test = train_test_split(x, y, test_size=0.3)\n"
   ]
  },
  {
   "cell_type": "code",
   "execution_count": 34,
   "id": "27bdeca9",
   "metadata": {},
   "outputs": [],
   "source": [
    "pca=PCA()\n",
    "pca.fit(X_train)\n",
    "total_sum_pca=np.cumsum(pca.explained_variance_ratio_)\n",
    "#print(total_sum_pca)\n",
    "#type(total_sum_pca)\n",
    "scaler=preprocessing.StandardScaler().fit(X_train)\n",
    "X_train_norm=scaler.transform(X_train)\n",
    "X_test_norm=scaler.transform(X_test)\n",
    "pca_norm=PCA()\n",
    "pca_norm.fit(X_train_norm)\n",
    "total_sum_norm=np.cumsum(pca_norm.explained_variance_ratio_)"
   ]
  },
  {
   "cell_type": "code",
   "execution_count": 35,
   "id": "83f2c110",
   "metadata": {},
   "outputs": [
    {
     "data": {
      "image/png": "[encoded data removed]",
      "text/plain": [
       "<Figure size 432x288 with 1 Axes>"
      ]
     },
     "metadata": {
      "needs_background": "light"
     },
     "output_type": "display_data"
    }
   ],
   "source": [
    "args=np.arange(1,14)\n",
    "fig,ax=plt.subplots()\n",
    "ax.plot(args,total_sum_pca[:13]*100, label=\"Normal dataset\")\n",
    "#ax.set_ylim(105,40)\n",
    "plt.legend()\n",
    "plt.show()"
   ]
  },
  {
   "cell_type": "code",
   "execution_count": 36,
   "id": "01fb340f",
   "metadata": {},
   "outputs": [
    {
     "data": {
      "image/png": "[encoded data removed]",
      "text/plain": [
       "<Figure size 432x288 with 1 Axes>"
      ]
     },
     "metadata": {
      "needs_background": "light"
     },
     "output_type": "display_data"
    }
   ],
   "source": [
    "args=np.arange(1,14)\n",
    "fig,ax=plt.subplots()\n",
    "ax.plot(args,total_sum_norm[:13]*100, label=\"Normalized dataset\")\n",
    "ax.set_ylim(105,40)\n",
    "plt.legend()\n",
    "plt.show()"
   ]
  },
  {
   "cell_type": "code",
   "execution_count": 37,
   "id": "6312f802",
   "metadata": {},
   "outputs": [
    {
     "name": "stdout",
     "output_type": "stream",
     "text": [
      "9\n"
     ]
    }
   ],
   "source": [
    "components=np.argmax(total_sum_norm>=0.9)+1\n",
    "print(components)"
   ]
  },
  {
   "cell_type": "code",
   "execution_count": 38,
   "id": "45b83563",
   "metadata": {},
   "outputs": [
    {
     "name": "stdout",
     "output_type": "stream",
     "text": [
      "The best parameter  {'C': 10.0}\n",
      "Best score : 0.9857142857142858\n",
      "Balanced accuracy score : 0.9603174603174602\n",
      "Average accuracy is:  96.66666666666667 %\n"
     ]
    }
   ],
   "source": [
    "logreg = LogisticRegression(max_iter=1000)\n",
    "grid = {\"C\": [1.0, 10.0, 100.0, 1000]}\n",
    "\n",
    "logreg_cv = GridSearchCV(logreg, grid, cv=10)\n",
    "logreg_cv.fit(X_train_norm,y_train)\n",
    "\n",
    "print(\"The best parameter \" , logreg_cv.best_params_)\n",
    "print(\"Best score :\" , logreg_cv.best_score_)\n",
    "\n",
    "y_pred = logreg_cv.predict(X_test_norm)\n",
    "\n",
    "\n",
    "print(\"Balanced accuracy score :\", balanced_accuracy_score(y_test, y_pred))\n",
    "\n",
    "print (\"Average accuracy is: \", accuracy_score(y_test, y_pred) * 100, \"%\")"
   ]
  },
  {
   "cell_type": "code",
   "execution_count": 39,
   "id": "c1365bb8",
   "metadata": {},
   "outputs": [
    {
     "name": "stdout",
     "output_type": "stream",
     "text": [
      "The best parameter  {'C': 1.0}\n",
      "Best score : 0.9785714285714286\n",
      "Balanced accuracy score : 0.9880952380952381\n",
      "Average accuracy is:  98.33333333333333 %\n"
     ]
    }
   ],
   "source": [
    "pca_norm=PCA(n_components=5)\n",
    "pca_norm=pca_norm.fit(X_train_norm)\n",
    "\n",
    "X_train_norm_pca=pca_norm.transform(X_train_norm)\n",
    "X_test_norm_pca=pca_norm.transform(X_test_norm)\n",
    "\n",
    "\n",
    "logreg = LogisticRegression(max_iter=1000)\n",
    "grid = {\"C\": [1.0, 10.0, 100.0, 1000]}\n",
    "\n",
    "logreg_cv = GridSearchCV(logreg, grid, cv=10)\n",
    "logreg_cv.fit(X_train_norm_pca,y_train)\n",
    "\n",
    "print(\"The best parameter \" , logreg_cv.best_params_)\n",
    "print(\"Best score :\" , logreg_cv.best_score_)\n",
    "\n",
    "y_pred = logreg_cv.predict(X_test_norm_pca)\n",
    "\n",
    "\n",
    "print(\"Balanced accuracy score :\", balanced_accuracy_score(y_test, y_pred))\n",
    "\n",
    "print (\"Average accuracy is: \", accuracy_score(y_test, y_pred) * 100, \"%\")"
   ]
  }
 ],
 "metadata": {
  "kernelspec": {
   "display_name": "Python 3 (ipykernel)",
   "language": "python",
   "name": "python3"
  },
  "language_info": {
   "codemirror_mode": {
    "name": "ipython",
    "version": 3
   },
   "file_extension": ".py",
   "mimetype": "text/x-python",
   "name": "python",
   "nbconvert_exporter": "python",
   "pygments_lexer": "ipython3",
   "version": "3.9.12"
  }
 },
 "nbformat": 4,
 "nbformat_minor": 5
}
