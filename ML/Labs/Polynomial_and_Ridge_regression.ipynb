{
 "cells": [
  {
   "cell_type": "markdown",
   "id": "a0507f42",
   "metadata": {},
   "source": [
    "Solution by Marceli P"
   ]
  },
  {
   "cell_type": "code",
   "execution_count": 5,
   "id": "9330c58c",
   "metadata": {},
   "outputs": [],
   "source": [
    "import numpy as np\n",
    "import pandas as pd\n",
    "import matplotlib.pyplot as plt\n",
    "from sklearn.preprocessing import PolynomialFeatures\n",
    "from sklearn.linear_model import LinearRegression\n",
    "from sklearn.model_selection import train_test_split\n",
    "from sklearn.metrics import mean_squared_error\n",
    "from scipy import stats"
   ]
  },
  {
   "cell_type": "markdown",
   "id": "27fbecf1",
   "metadata": {},
   "source": [
    "\n",
    "1. Create an X-Y scatter plot containing your data\n",
    "2. Remove defective data points using the function e.g. zscore (outlier => 3)\n",
    "3. Divide the data into training and test sets (random_state = 1)\n",
    "4. Train polynomial regression models for polynomial degrees from 1 to 10\n",
    "5. Select the best model, enter its degree and mean square error on the training and test sets,\n",
    "6. Train polynomial ridge regression models for alpha 0, 1 and 10 and polynomial degrees from 1 to 10\n",
    "7. Select the best model, enter its degree, alpha coefficient and mean square error on the training and test sets,\n",
    "8. plot a line plot of the obtained functions against the background of the point data set for both types of regression (on the same plot)\n",
    "9. provide the parameters of the best models\n"
   ]
  },
  {
   "cell_type": "code",
   "execution_count": 6,
   "id": "ce74e3c9",
   "metadata": {},
   "outputs": [],
   "source": [
    "df = pd.read_csv('data.csv', sep=',', names=['A', 'B'])"
   ]
  },
  {
   "cell_type": "code",
   "execution_count": 7,
   "id": "4910c93e",
   "metadata": {},
   "outputs": [
    {
     "data": {
      "text/html": [
       "<div>\n",
       "<style scoped>\n",
       "    .dataframe tbody tr th:only-of-type {\n",
       "        vertical-align: middle;\n",
       "    }\n",
       "\n",
       "    .dataframe tbody tr th {\n",
       "        vertical-align: top;\n",
       "    }\n",
       "\n",
       "    .dataframe thead th {\n",
       "        text-align: right;\n",
       "    }\n",
       "</style>\n",
       "<table border=\"1\" class=\"dataframe\">\n",
       "  <thead>\n",
       "    <tr style=\"text-align: right;\">\n",
       "      <th></th>\n",
       "      <th>A</th>\n",
       "      <th>B</th>\n",
       "    </tr>\n",
       "  </thead>\n",
       "  <tbody>\n",
       "    <tr>\n",
       "      <th>0</th>\n",
       "      <td>23.840000</td>\n",
       "      <td>0.317402</td>\n",
       "    </tr>\n",
       "    <tr>\n",
       "      <th>1</th>\n",
       "      <td>23.080000</td>\n",
       "      <td>0.243897</td>\n",
       "    </tr>\n",
       "    <tr>\n",
       "      <th>2</th>\n",
       "      <td>20.755333</td>\n",
       "      <td>0.252954</td>\n",
       "    </tr>\n",
       "    <tr>\n",
       "      <th>3</th>\n",
       "      <td>20.057333</td>\n",
       "      <td>0.140816</td>\n",
       "    </tr>\n",
       "    <tr>\n",
       "      <th>4</th>\n",
       "      <td>16.888000</td>\n",
       "      <td>0.372653</td>\n",
       "    </tr>\n",
       "  </tbody>\n",
       "</table>\n",
       "</div>"
      ],
      "text/plain": [
       "           A         B\n",
       "0  23.840000  0.317402\n",
       "1  23.080000  0.243897\n",
       "2  20.755333  0.252954\n",
       "3  20.057333  0.140816\n",
       "4  16.888000  0.372653"
      ]
     },
     "execution_count": 7,
     "metadata": {},
     "output_type": "execute_result"
    }
   ],
   "source": [
    "df.head()"
   ]
  },
  {
   "cell_type": "code",
   "execution_count": 8,
   "id": "652b4c86",
   "metadata": {},
   "outputs": [
    {
     "data": {
      "text/plain": [
       "<matplotlib.collections.PathCollection at 0x1dcf5cbd610>"
      ]
     },
     "execution_count": 8,
     "metadata": {},
     "output_type": "execute_result"
    },
    {
     "data": {
      "image/png": "[encoded data removed]",
      "text/plain": [
       "<Figure size 432x288 with 1 Axes>"
      ]
     },
     "metadata": {
      "needs_background": "light"
     },
     "output_type": "display_data"
    }
   ],
   "source": [
    "plt.scatter(df.iloc[:, 0], df.iloc[:, 1], c='blue')"
   ]
  },
  {
   "cell_type": "code",
   "execution_count": 9,
   "id": "64206a67",
   "metadata": {},
   "outputs": [
    {
     "data": {
      "text/html": [
       "<div>\n",
       "<style scoped>\n",
       "    .dataframe tbody tr th:only-of-type {\n",
       "        vertical-align: middle;\n",
       "    }\n",
       "\n",
       "    .dataframe tbody tr th {\n",
       "        vertical-align: top;\n",
       "    }\n",
       "\n",
       "    .dataframe thead th {\n",
       "        text-align: right;\n",
       "    }\n",
       "</style>\n",
       "<table border=\"1\" class=\"dataframe\">\n",
       "  <thead>\n",
       "    <tr style=\"text-align: right;\">\n",
       "      <th></th>\n",
       "      <th>A</th>\n",
       "      <th>B</th>\n",
       "    </tr>\n",
       "  </thead>\n",
       "  <tbody>\n",
       "    <tr>\n",
       "      <th>count</th>\n",
       "      <td>200.000000</td>\n",
       "      <td>200.000000</td>\n",
       "    </tr>\n",
       "    <tr>\n",
       "      <th>mean</th>\n",
       "      <td>9.050975</td>\n",
       "      <td>51.488231</td>\n",
       "    </tr>\n",
       "    <tr>\n",
       "      <th>std</th>\n",
       "      <td>9.080632</td>\n",
       "      <td>691.725898</td>\n",
       "    </tr>\n",
       "    <tr>\n",
       "      <th>min</th>\n",
       "      <td>-9.434667</td>\n",
       "      <td>0.130889</td>\n",
       "    </tr>\n",
       "    <tr>\n",
       "      <th>25%</th>\n",
       "      <td>0.775167</td>\n",
       "      <td>0.357462</td>\n",
       "    </tr>\n",
       "    <tr>\n",
       "      <th>50%</th>\n",
       "      <td>10.202667</td>\n",
       "      <td>1.724813</td>\n",
       "    </tr>\n",
       "    <tr>\n",
       "      <th>75%</th>\n",
       "      <td>16.652167</td>\n",
       "      <td>5.096634</td>\n",
       "    </tr>\n",
       "    <tr>\n",
       "      <th>max</th>\n",
       "      <td>25.704667</td>\n",
       "      <td>9785.000000</td>\n",
       "    </tr>\n",
       "  </tbody>\n",
       "</table>\n",
       "</div>"
      ],
      "text/plain": [
       "                A            B\n",
       "count  200.000000   200.000000\n",
       "mean     9.050975    51.488231\n",
       "std      9.080632   691.725898\n",
       "min     -9.434667     0.130889\n",
       "25%      0.775167     0.357462\n",
       "50%     10.202667     1.724813\n",
       "75%     16.652167     5.096634\n",
       "max     25.704667  9785.000000"
      ]
     },
     "execution_count": 9,
     "metadata": {},
     "output_type": "execute_result"
    }
   ],
   "source": [
    "df.describe()"
   ]
  },
  {
   "cell_type": "code",
   "execution_count": 10,
   "id": "180cd2ad",
   "metadata": {
    "scrolled": true
   },
   "outputs": [
    {
     "name": "stdout",
     "output_type": "stream",
     "text": [
      "(array([175], dtype=int64), array([1], dtype=int64))\n",
      "A     1.210254\n",
      "B    14.106653\n",
      "Name: 175, dtype: float64\n"
     ]
    }
   ],
   "source": [
    "z = np.abs(stats.zscore(df))\n",
    "threshold = 3\n",
    "print(np.where(z > 3))\n",
    "print(z.iloc[175])"
   ]
  },
  {
   "cell_type": "code",
   "execution_count": 11,
   "id": "3c66fa28",
   "metadata": {},
   "outputs": [
    {
     "name": "stdout",
     "output_type": "stream",
     "text": [
      "A      20.013333\n",
      "B    9785.000000\n",
      "Name: 175, dtype: float64\n",
      "A    17.797333\n",
      "B     0.561017\n",
      "Name: 176, dtype: float64\n"
     ]
    },
    {
     "data": {
      "text/html": [
       "<div>\n",
       "<style scoped>\n",
       "    .dataframe tbody tr th:only-of-type {\n",
       "        vertical-align: middle;\n",
       "    }\n",
       "\n",
       "    .dataframe tbody tr th {\n",
       "        vertical-align: top;\n",
       "    }\n",
       "\n",
       "    .dataframe thead th {\n",
       "        text-align: right;\n",
       "    }\n",
       "</style>\n",
       "<table border=\"1\" class=\"dataframe\">\n",
       "  <thead>\n",
       "    <tr style=\"text-align: right;\">\n",
       "      <th></th>\n",
       "      <th>A</th>\n",
       "      <th>B</th>\n",
       "    </tr>\n",
       "  </thead>\n",
       "  <tbody>\n",
       "    <tr>\n",
       "      <th>count</th>\n",
       "      <td>199.000000</td>\n",
       "      <td>199.000000</td>\n",
       "    </tr>\n",
       "    <tr>\n",
       "      <th>mean</th>\n",
       "      <td>8.995888</td>\n",
       "      <td>2.576112</td>\n",
       "    </tr>\n",
       "    <tr>\n",
       "      <th>std</th>\n",
       "      <td>9.069970</td>\n",
       "      <td>2.379342</td>\n",
       "    </tr>\n",
       "    <tr>\n",
       "      <th>min</th>\n",
       "      <td>-9.434667</td>\n",
       "      <td>0.130889</td>\n",
       "    </tr>\n",
       "    <tr>\n",
       "      <th>25%</th>\n",
       "      <td>0.754333</td>\n",
       "      <td>0.357174</td>\n",
       "    </tr>\n",
       "    <tr>\n",
       "      <th>50%</th>\n",
       "      <td>10.202000</td>\n",
       "      <td>1.626511</td>\n",
       "    </tr>\n",
       "    <tr>\n",
       "      <th>75%</th>\n",
       "      <td>16.618667</td>\n",
       "      <td>5.066527</td>\n",
       "    </tr>\n",
       "    <tr>\n",
       "      <th>max</th>\n",
       "      <td>25.704667</td>\n",
       "      <td>7.725853</td>\n",
       "    </tr>\n",
       "  </tbody>\n",
       "</table>\n",
       "</div>"
      ],
      "text/plain": [
       "                A           B\n",
       "count  199.000000  199.000000\n",
       "mean     8.995888    2.576112\n",
       "std      9.069970    2.379342\n",
       "min     -9.434667    0.130889\n",
       "25%      0.754333    0.357174\n",
       "50%     10.202000    1.626511\n",
       "75%     16.618667    5.066527\n",
       "max     25.704667    7.725853"
      ]
     },
     "execution_count": 11,
     "metadata": {},
     "output_type": "execute_result"
    }
   ],
   "source": [
    "print(df.iloc[175])\n",
    "df.drop(175, inplace=True)\n",
    "print(df.iloc[175])\n",
    "df.describe()"
   ]
  },
  {
   "cell_type": "code",
   "execution_count": 12,
   "id": "27a553f2",
   "metadata": {},
   "outputs": [
    {
     "data": {
      "text/plain": [
       "<matplotlib.collections.PathCollection at 0x1dcf7dd0940>"
      ]
     },
     "execution_count": 12,
     "metadata": {},
     "output_type": "execute_result"
    },
    {
     "data": {
      "image/png": "[encoded data removed]",
      "text/plain": [
       "<Figure size 432x288 with 1 Axes>"
      ]
     },
     "metadata": {
      "needs_background": "light"
     },
     "output_type": "display_data"
    }
   ],
   "source": [
    "plt.scatter(df.iloc[:, 0], df.iloc[:, 1], c='blue')"
   ]
  },
  {
   "cell_type": "code",
   "execution_count": 13,
   "id": "21e8f877",
   "metadata": {},
   "outputs": [],
   "source": [
    "X = df.iloc[:, 0].to_numpy().reshape(-1,1)\n",
    "Y = df.iloc[:, 1].to_numpy().reshape(-1,1)\n",
    "\n",
    "X_train, X_test, y_train, y_test = train_test_split(X, Y, test_size=0.3, random_state=5)"
   ]
  },
  {
   "cell_type": "code",
   "execution_count": 15,
   "id": "3f3d2e68",
   "metadata": {},
   "outputs": [],
   "source": [
    "def poly_reg(X, Y, deg):\n",
    "    regression = PolynomialFeatures(degree=deg)\n",
    "    features = regression.fit_transform(X)\n",
    "    \n",
    "    polynomial_regression = LinearRegression()\n",
    "    polynomial_regression.fit(features, Y)\n",
    "    return regression, polynomial_regression"
   ]
  },
  {
   "cell_type": "code",
   "execution_count": 16,
   "id": "96228989",
   "metadata": {
    "scrolled": true
   },
   "outputs": [],
   "source": [
    "y_prediction_res = []\n",
    "\n",
    "def poly_train(i, X_train, X_test, y_train, y_test):\n",
    "    features, model = poly_reg(X_train, y_train, i)\n",
    "    space = np.linspace(0, 2, X_train.size).reshape(-1, 1)\n",
    "    preds = model.predict(features.transform(space))\n",
    "    \n",
    "\n",
    "    colors = np.random.randn(len(df))\n",
    "    plt.scatter(X, Y, c=colors)\n",
    "    plt.plot(space, preds, color='r')\n",
    "    \n",
    "    preds_train = model.predict(features.transform(X_train))\n",
    "    preds_test = model.predict(features.transform(X_test))\n",
    "    y_prediction_res.append(preds_test)\n",
    "    \n",
    "    \n",
    "    mse_train = mean_squared_error(y_train, preds_train)\n",
    "    mse_test = mean_squared_error(y_test, preds_test)\n",
    "    \n",
    "    print('Degree: ', i)\n",
    "    print('Train error: {}\\nTest error: {}'.format(mse_train, mse_test))\n",
    "    \n",
    "    "
   ]
  },
  {
   "cell_type": "code",
   "execution_count": 17,
   "id": "e7cd0ff7",
   "metadata": {},
   "outputs": [
    {
     "name": "stdout",
     "output_type": "stream",
     "text": [
      "Degree:  1\n",
      "Train error: 1.0757657296605019\n",
      "Test error: 0.7505261285442408\n",
      "Degree:  2\n",
      "Train error: 1.033979045327138\n",
      "Test error: 0.7122254380848531\n",
      "Degree:  3\n",
      "Train error: 0.7437932802654471\n",
      "Test error: 0.6886868090607019\n",
      "Degree:  4\n",
      "Train error: 0.7330100731933913\n",
      "Test error: 0.7260481125992861\n",
      "Degree:  5\n",
      "Train error: 0.7029700045322557\n",
      "Test error: 0.6932224584689696\n",
      "Degree:  6\n",
      "Train error: 0.696002191729374\n",
      "Test error: 0.7083712699361217\n",
      "Degree:  7\n",
      "Train error: 0.6959812944531691\n",
      "Test error: 0.7088336732869341\n",
      "Degree:  8\n",
      "Train error: 0.6914373095963261\n",
      "Test error: 0.7050006822030335\n",
      "Degree:  9\n",
      "Train error: 0.6792577175588373\n",
      "Test error: 0.7105881163990801\n"
     ]
    },
    {
     "data": {
      "image/png": "[encoded data removed]",
      "text/plain": [
       "<Figure size 432x288 with 1 Axes>"
      ]
     },
     "metadata": {
      "needs_background": "light"
     },
     "output_type": "display_data"
    }
   ],
   "source": [
    "for i in  range(1, 10):\n",
    "    poly_train(i, X_train, X_test, y_train, y_test)"
   ]
  },
  {
   "cell_type": "markdown",
   "id": "010e3bf8",
   "metadata": {},
   "source": [
    "The best model is for Grade 3\n",
    "Train error: 0.7437932802654471\n",
    "Test error: 0.6886868090607019"
   ]
  },
  {
   "cell_type": "code",
   "execution_count": 18,
   "id": "29289274",
   "metadata": {
    "scrolled": true
   },
   "outputs": [
    {
     "name": "stdout",
     "output_type": "stream",
     "text": [
      "Alpha factor:  0 has mean squared error equal to:  0.7505261285442412\n",
      "Alpha factor:  1 has mean squared error equal to:  0.7505368664418836\n",
      "Alpha factor:  10 has mean squared error equal to:  0.7506357656079105\n"
     ]
    }
   ],
   "source": [
    "#Ridge regression\n",
    "from sklearn.linear_model import Ridge\n",
    "\n",
    "alphas = [0, 1, 10]\n",
    "\n",
    "for a in alphas:\n",
    "    model = Ridge(alpha = a)\n",
    "    model.fit(X_train, y_train)\n",
    "    preds = model.predict(X_test)\n",
    "    \n",
    "    \n",
    "    print(\"Alpha factor: \", a, \"has mean squared error equal to: \", mean_squared_error(y_test, preds))\n",
    "    \n",
    "    \n",
    "    \n"
   ]
  },
  {
   "cell_type": "code",
   "execution_count": 19,
   "id": "2cf5ecc4",
   "metadata": {},
   "outputs": [
    {
     "name": "stderr",
     "output_type": "stream",
     "text": [
      "C:\\Users\\Marceli\\AppData\\Local\\Packages\\PythonSoftwareFoundation.Python.3.9_qbz5n2kfra8p0\\LocalCache\\local-packages\\Python39\\site-packages\\sklearn\\linear_model\\_ridge.py:157: LinAlgWarning: Ill-conditioned matrix (rcond=2.5548e-18): result may not be accurate.\n",
      "  return linalg.solve(A, Xy, sym_pos=True, overwrite_a=True).T\n",
      "C:\\Users\\Marceli\\AppData\\Local\\Packages\\PythonSoftwareFoundation.Python.3.9_qbz5n2kfra8p0\\LocalCache\\local-packages\\Python39\\site-packages\\sklearn\\linear_model\\_ridge.py:157: LinAlgWarning: Ill-conditioned matrix (rcond=4.35547e-21): result may not be accurate.\n",
      "  return linalg.solve(A, Xy, sym_pos=True, overwrite_a=True).T\n",
      "C:\\Users\\Marceli\\AppData\\Local\\Packages\\PythonSoftwareFoundation.Python.3.9_qbz5n2kfra8p0\\LocalCache\\local-packages\\Python39\\site-packages\\sklearn\\linear_model\\_ridge.py:157: LinAlgWarning: Ill-conditioned matrix (rcond=7.30189e-24): result may not be accurate.\n",
      "  return linalg.solve(A, Xy, sym_pos=True, overwrite_a=True).T\n",
      "C:\\Users\\Marceli\\AppData\\Local\\Packages\\PythonSoftwareFoundation.Python.3.9_qbz5n2kfra8p0\\LocalCache\\local-packages\\Python39\\site-packages\\sklearn\\linear_model\\_ridge.py:157: LinAlgWarning: Ill-conditioned matrix (rcond=1.20759e-26): result may not be accurate.\n",
      "  return linalg.solve(A, Xy, sym_pos=True, overwrite_a=True).T\n",
      "C:\\Users\\Marceli\\AppData\\Local\\Packages\\PythonSoftwareFoundation.Python.3.9_qbz5n2kfra8p0\\LocalCache\\local-packages\\Python39\\site-packages\\sklearn\\linear_model\\_ridge.py:157: LinAlgWarning: Ill-conditioned matrix (rcond=1.97516e-29): result may not be accurate.\n",
      "  return linalg.solve(A, Xy, sym_pos=True, overwrite_a=True).T\n",
      "C:\\Users\\Marceli\\AppData\\Local\\Packages\\PythonSoftwareFoundation.Python.3.9_qbz5n2kfra8p0\\LocalCache\\local-packages\\Python39\\site-packages\\sklearn\\linear_model\\_ridge.py:157: LinAlgWarning: Ill-conditioned matrix (rcond=2.5548e-17): result may not be accurate.\n",
      "  return linalg.solve(A, Xy, sym_pos=True, overwrite_a=True).T\n",
      "C:\\Users\\Marceli\\AppData\\Local\\Packages\\PythonSoftwareFoundation.Python.3.9_qbz5n2kfra8p0\\LocalCache\\local-packages\\Python39\\site-packages\\sklearn\\linear_model\\_ridge.py:157: LinAlgWarning: Ill-conditioned matrix (rcond=4.35547e-20): result may not be accurate.\n",
      "  return linalg.solve(A, Xy, sym_pos=True, overwrite_a=True).T\n",
      "C:\\Users\\Marceli\\AppData\\Local\\Packages\\PythonSoftwareFoundation.Python.3.9_qbz5n2kfra8p0\\LocalCache\\local-packages\\Python39\\site-packages\\sklearn\\linear_model\\_ridge.py:157: LinAlgWarning: Ill-conditioned matrix (rcond=7.30189e-23): result may not be accurate.\n",
      "  return linalg.solve(A, Xy, sym_pos=True, overwrite_a=True).T\n",
      "C:\\Users\\Marceli\\AppData\\Local\\Packages\\PythonSoftwareFoundation.Python.3.9_qbz5n2kfra8p0\\LocalCache\\local-packages\\Python39\\site-packages\\sklearn\\linear_model\\_ridge.py:157: LinAlgWarning: Ill-conditioned matrix (rcond=1.20759e-25): result may not be accurate.\n",
      "  return linalg.solve(A, Xy, sym_pos=True, overwrite_a=True).T\n",
      "C:\\Users\\Marceli\\AppData\\Local\\Packages\\PythonSoftwareFoundation.Python.3.9_qbz5n2kfra8p0\\LocalCache\\local-packages\\Python39\\site-packages\\sklearn\\linear_model\\_ridge.py:157: LinAlgWarning: Ill-conditioned matrix (rcond=1.97516e-28): result may not be accurate.\n",
      "  return linalg.solve(A, Xy, sym_pos=True, overwrite_a=True).T\n"
     ]
    },
    {
     "name": "stdout",
     "output_type": "stream",
     "text": [
      "   train/test  alpha factor  degree  mean squared error  \\\n",
      "18      train             0      10            0.669792   \n",
      "38      train             1      10            0.669793   \n",
      "58      train            10      10            0.669921   \n",
      "16      train             0       9            0.679258   \n",
      "36      train             1       9            0.679260   \n",
      "56      train            10       9            0.679463   \n",
      "5        test             0       3            0.688687   \n",
      "25       test             1       3            0.688820   \n",
      "45       test            10       3            0.690029   \n",
      "14      train             0       8            0.691437   \n",
      "34      train             1       8            0.691440   \n",
      "54      train            10       8            0.691664   \n",
      "49       test            10       5            0.692274   \n",
      "29       test             1       5            0.693119   \n",
      "9        test             0       5            0.693222   \n",
      "12      train             0       7            0.695981   \n",
      "32      train             1       7            0.695983   \n",
      "10      train             0       6            0.696002   \n",
      "30      train             1       6            0.696003   \n",
      "50      train            10       6            0.696064   \n",
      "52      train            10       7            0.696102   \n",
      "8       train             0       5            0.702970   \n",
      "28      train             1       5            0.702971   \n",
      "48      train            10       5            0.703033   \n",
      "55       test            10       8            0.703183   \n",
      "35       test             1       8            0.704788   \n",
      "15       test             0       8            0.705001   \n",
      "53       test            10       7            0.706972   \n",
      "51       test            10       6            0.707256   \n",
      "31       test             1       6            0.708251   \n",
      "11       test             0       6            0.708371   \n",
      "33       test             1       7            0.708626   \n",
      "13       test             0       7            0.708834   \n",
      "57       test            10       9            0.710334   \n",
      "37       test             1       9            0.710538   \n",
      "17       test             0       9            0.710587   \n",
      "43       test            10       2            0.712205   \n",
      "23       test             1       2            0.712221   \n",
      "3        test             0       2            0.712225   \n",
      "19       test             0      10            0.718453   \n",
      "39       test             1      10            0.718579   \n",
      "59       test            10      10            0.719732   \n",
      "47       test            10       4            0.724838   \n",
      "27       test             1       4            0.725920   \n",
      "7        test             0       4            0.726048   \n",
      "6       train             0       4            0.733010   \n",
      "26      train             1       4            0.733011   \n",
      "46      train            10       4            0.733068   \n",
      "4       train             0       3            0.743793   \n",
      "24      train             1       3            0.743793   \n",
      "44      train            10       3            0.743813   \n",
      "1        test             0       1            0.750526   \n",
      "21       test             1       1            0.750537   \n",
      "41       test            10       1            0.750636   \n",
      "2       train             0       2            1.033979   \n",
      "22      train             1       2            1.033979   \n",
      "42      train            10       2            1.034004   \n",
      "0       train             0       1            1.075766   \n",
      "20      train             1       1            1.075766   \n",
      "40      train            10       1            1.075769   \n",
      "\n",
      "                                                    y  \n",
      "18  [[6.090673215680585], [5.532986496550738], [0....  \n",
      "38  [[6.090455887545918], [5.530530555725909], [0....  \n",
      "58  [[6.086714452979184], [5.509998303731095], [0....  \n",
      "16  [[5.938796249582398], [5.65424945678779], [0.4...  \n",
      "36  [[5.936316993775529], [5.651771304104868], [0....  \n",
      "56  [[5.915515529189639], [5.630984978196838], [0....  \n",
      "5   [[0.3268990535186518], [0.2065617241412845], [...  \n",
      "25  [[0.3270271625250434], [0.20664503710288962], ...  \n",
      "45  [[0.3281748189174456], [0.20739149205468443], ...  \n",
      "14  [[5.762902446143764], [5.716643750561017], [0....  \n",
      "34  [[5.760010114911198], [5.714115393765107], [0....  \n",
      "54  [[5.735681709127376], [5.69279942486976], [0.4...  \n",
      "49  [[0.32668032361267496], [0.29035700085029337],...  \n",
      "29  [[0.3293523442323023], [0.29243161272333307], ...  \n",
      "9   [[0.3296566727484116], [0.29266781557059485], ...  \n",
      "12  [[5.698626249417347], [5.679241350270062], [0....  \n",
      "32  [[5.696876851609066], [5.677485227812753], [0....  \n",
      "10  [[5.699283860220401], [5.673874945574204], [0....  \n",
      "30  [[5.69743839911109], [5.6730824823884385], [0....  \n",
      "50  [[5.681238962142909], [5.666115234152179], [0....  \n",
      "52  [[5.68187937028271], [5.662400977107305], [0.4...  \n",
      "8   [[5.798369563126169], [5.624939376883766], [0....  \n",
      "28  [[5.796505997136765], [5.624143493826653], [0....  \n",
      "48  [[5.780140014126971], [5.617150659561609], [0....  \n",
      "55  [[0.3731984975565048], [0.3627203042809777], [...  \n",
      "35  [[0.3706071565528193], [0.3606053702239347], [...  \n",
      "15  [[0.3702976159041267], [0.3603537808545001], [...  \n",
      "53  [[0.39442034277259364], [0.34990632991041526],...  \n",
      "51  [[0.39317605337198547], [0.34752209489195085],...  \n",
      "31  [[0.3958237884202358], [0.34958625941437393], ...  \n",
      "11  [[0.3961248012262306], [0.3498207773484676], [...  \n",
      "33  [[0.3944040875400958], [0.34683243744294856], ...  \n",
      "13  [[0.39440186747807005], [0.34647404276475413],...  \n",
      "57  [[0.45407975633195363], [0.42174167003748053],...  \n",
      "37  [[0.4503768434428572], [0.41891547308847876], ...  \n",
      "17  [[0.4499223017284102], [0.418564342068354], [3...  \n",
      "43  [[0.7943012940292085], [0.6370700942901317], [...  \n",
      "23  [[0.7916081299632061], [0.6349628137715193], [...  \n",
      "3   [[0.79130757569816], [0.6347276440671852], [3....  \n",
      "19  [[0.41944902546122265], [0.34448650606832487],...  \n",
      "39  [[0.41963406523278834], [0.3442893276103298], ...  \n",
      "59  [[0.4199425222489772], [0.34125271527257794], ...  \n",
      "47  [[0.3816166741597531], [0.28351778045397946], ...  \n",
      "27  [[0.3831302947324282], [0.28667877673748254], ...  \n",
      "7   [[0.3833004014169301], [0.287034001173053], [3...  \n",
      "6   [[6.0638830779882795], [5.6960393544724], [0.5...  \n",
      "26  [[6.062550527070533], [5.6952767286735], [0.55...  \n",
      "46  [[6.050692592163538], [5.688489788384541], [0....  \n",
      "4   [[5.982082755305051], [5.5888779681668534], [0...  \n",
      "24  [[5.981308185105146], [5.588733056036761], [0....  \n",
      "44  [[5.97437128301601], [5.5874349200653874], [0....  \n",
      "1   [[0.8478354578293517], [0.6531885315894952], [...  \n",
      "21  [[0.8479825570006292], [0.6533516051668142], [...  \n",
      "41  [[0.8493053638436092], [0.6548180637614758], [...  \n",
      "2   [[6.200113977477486], [5.173792328961031], [1....  \n",
      "22  [[6.199254616370476], [5.173487575303153], [1....  \n",
      "42  [[6.191554191083778], [5.170756775831372], [1....  \n",
      "0   [[5.958861460016266], [5.146855934522391], [1....  \n",
      "20  [[5.958589104299518], [5.146650218984471], [1....  \n",
      "40  [[5.956139913031434], [5.144800297472992], [1....  \n"
     ]
    }
   ],
   "source": [
    "from sklearn.linear_model import Ridge\n",
    "from sklearn.pipeline import make_pipeline\n",
    "\n",
    "\n",
    "alphas = [0, 1, 10]\n",
    "\n",
    "def poly_reg_wrapper(X_train, Y_train, X_test, deg, alpha):\n",
    "    model = make_pipeline(PolynomialFeatures(deg), Ridge(alpha=a))\n",
    "    model.fit(X_train, Y_train)\n",
    "    return model.predict(X_train), model.predict(X_test)\n",
    "\n",
    "\n",
    "mses = {'train/test': [], 'alpha factor': [], 'degree': [], 'mean squared error': [], 'y': []}\n",
    "\n",
    "for a in alphas:\n",
    "    for i in range (1,11):\n",
    "        train_preds, preds = poly_reg_wrapper(X_train, y_train, X_test, i, a)\n",
    "        \n",
    "        mses['train/test'].append('train')\n",
    "        mses['alpha factor'].append(a)\n",
    "        mses['degree'].append(i)\n",
    "        mses['mean squared error'].append(mean_squared_error(y_train, train_preds))\n",
    "        mses['y'].append(preds)\n",
    "\n",
    "        \n",
    "        mses['train/test'].append('test')\n",
    "        mses['alpha factor'].append(a)\n",
    "        mses['degree'].append(i)\n",
    "        mses['mean squared error'].append(mean_squared_error(y_test, preds))\n",
    "        mses['y'].append(train_preds)\n",
    "\n",
    "        \n",
    "#         print(f\"[TRAIN]\\tAlpha factor: {a} with degree {i} has mean squared error equal to: \", mean_squared_error(y_train, train_preds)) # błąd sredniokwadratowy\n",
    "#         print(f\"[TEST]\\tAlpha factor: {a} with degree {i} has mean squared error equal to: \", mean_squared_error(y_test, preds)) # błąd sredniokwadratowy\n",
    "#         print(5*\"-\")\n",
    "        \n",
    "results = pd.DataFrame(mses).sort_values(by='mean squared error')\n",
    "print(results)\n",
    "min_res_idx = results['mean squared error'].idxmin()\n",
    "min_res = results.iloc[min_res_idx, :]\n",
    "\n"
   ]
  },
  {
   "cell_type": "markdown",
   "id": "e5b802a6",
   "metadata": {},
   "source": [
    "Best model was obtained with parameteres:\n",
    "Alpha factor: 0\n",
    "Degree: 10"
   ]
  },
  {
   "cell_type": "code",
   "execution_count": 20,
   "id": "44be3e6f",
   "metadata": {},
   "outputs": [
    {
     "data": {
      "text/plain": [
       "\"\\n#Wykres dla  wszystkich stopni wielomianu\\nfor i in range(0, len(y_prediction_res)):\\n    plt.scatter(X_test, y_prediction_res[i], c='green')\\n\""
      ]
     },
     "execution_count": 20,
     "metadata": {},
     "output_type": "execute_result"
    },
    {
     "data": {
      "image/png": "[encoded data removed]",
      "text/plain": [
       "<Figure size 432x288 with 1 Axes>"
      ]
     },
     "metadata": {
      "needs_background": "light"
     },
     "output_type": "display_data"
    }
   ],
   "source": [
    "\n",
    "plt.scatter(X_test, min_res['y'], c='blue') #Ridge prediction + polynomial\n",
    "plt.scatter(X_test, y_test, c='red') #Input data\n",
    "plt.scatter(X_test, y_prediction_res[3], c='green') #Polynomial regression (3rd degree)\n",
    "\n",
    "'''\n",
    "#Graph for all degrees of the polynomial\n",
    "for i in range(0, len(y_prediction_res)):\n",
    "    plt.scatter(X_test, y_prediction_res[i], c='green')\n",
    "'''\n"
   ]
  },
  {
   "cell_type": "code",
   "execution_count": 21,
   "id": "68f961aa",
   "metadata": {},
   "outputs": [],
   "source": [
    "def sort_two_lists(list1, list2):\n",
    "    merged = np.concatenate((list1, list2), axis=1)\n",
    "    sorted_list = merged[merged[:, 0].argsort()]\n",
    "    return(sorted_list)"
   ]
  },
  {
   "cell_type": "code",
   "execution_count": 22,
   "id": "60eaa795",
   "metadata": {},
   "outputs": [],
   "source": [
    "ridge_sorted_predictions = sort_two_lists(X_test, min_res['y'])\n",
    "polynomial_3_sorted_predictions = sort_two_lists(X_test, y_prediction_res[3])"
   ]
  },
  {
   "cell_type": "code",
   "execution_count": 23,
   "id": "880b6b57",
   "metadata": {},
   "outputs": [
    {
     "data": {
      "text/plain": [
       "[<matplotlib.lines.Line2D at 0x1dcf7fcda00>]"
      ]
     },
     "execution_count": 23,
     "metadata": {},
     "output_type": "execute_result"
    },
    {
     "data": {
      "image/png": "[encoded data removed]",
      "text/plain": [
       "<Figure size 432x288 with 1 Axes>"
      ]
     },
     "metadata": {
      "needs_background": "light"
     },
     "output_type": "display_data"
    }
   ],
   "source": [
    "plt.plot(ridge_sorted_predictions[:, 0], ridge_sorted_predictions[:, 1], '-o',\n",
    "                 linewidth=1, markersize=4, color='blue')\n",
    "plt.plot(polynomial_3_sorted_predictions[:, 0], polynomial_3_sorted_predictions[:, 1], '-o',\n",
    "                 linewidth=1, markersize=4, color='green')\n",
    "\n",
    "#Green - polynomial 3rd degree (adding all degrees makes plot unreadable)\n",
    "#Blue - ridge"
   ]
  },
  {
   "cell_type": "markdown",
   "id": "7ae2f26c",
   "metadata": {},
   "source": [
    "Best polynomial parameter: Degree:  3\n",
    "Best model for ridge was obtained with parameters: Alpha factor: 0 Degree: 10"
   ]
  }
 ],
 "metadata": {
  "kernelspec": {
   "display_name": "Python 3 (ipykernel)",
   "language": "python",
   "name": "python3"
  },
  "language_info": {
   "codemirror_mode": {
    "name": "ipython",
    "version": 3
   },
   "file_extension": ".py",
   "mimetype": "text/x-python",
   "name": "python",
   "nbconvert_exporter": "python",
   "pygments_lexer": "ipython3",
   "version": "3.9.12"
  }
 },
 "nbformat": 4,
 "nbformat_minor": 5
}
