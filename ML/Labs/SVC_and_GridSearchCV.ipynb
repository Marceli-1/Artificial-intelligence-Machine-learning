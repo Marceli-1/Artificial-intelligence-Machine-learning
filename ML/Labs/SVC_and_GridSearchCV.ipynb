{
 "cells": [
  {
   "cell_type": "markdown",
   "id": "e02ff049",
   "metadata": {},
   "source": [
    "Solution by Marceli P"
   ]
  },
  {
   "cell_type": "markdown",
   "id": "b21ab0bb",
   "metadata": {},
   "source": [
    "Use the attached dataset 'heart.csv' to train the SVM classifier. For training, use the GridSearchCV method with \"C\" and \"kernel\" parameters of the selected range.\n",
    "From the models trained, select the better one based on the mean accuracy of the classification (parameter 'accuracy') on the test set and display its parameters.\n",
    "After selecting the best model, visualize its error matrix."
   ]
  },
  {
   "cell_type": "code",
   "execution_count": 1,
   "id": "37eb459a",
   "metadata": {},
   "outputs": [],
   "source": [
    "import pandas as pd\n",
    "import numpy as np\n",
    "from sklearn.model_selection import train_test_split\n",
    "from sklearn.svm import SVC\n",
    "from sklearn.model_selection import GridSearchCV\n",
    "from sklearn.metrics import classification_report\n",
    "from sklearn.metrics import accuracy_score\n",
    "from sklearn.metrics import confusion_matrix, plot_confusion_matrix\n",
    "import matplotlib.pyplot as plt"
   ]
  },
  {
   "cell_type": "code",
   "execution_count": 2,
   "id": "3fad4a3c",
   "metadata": {},
   "outputs": [
    {
     "name": "stdout",
     "output_type": "stream",
     "text": [
      "<class 'pandas.core.frame.DataFrame'>\n",
      "RangeIndex: 303 entries, 0 to 302\n",
      "Data columns (total 14 columns):\n",
      " #   Column    Non-Null Count  Dtype  \n",
      "---  ------    --------------  -----  \n",
      " 0   age       303 non-null    int64  \n",
      " 1   sex       303 non-null    int64  \n",
      " 2   cp        303 non-null    int64  \n",
      " 3   trestbps  303 non-null    int64  \n",
      " 4   chol      303 non-null    int64  \n",
      " 5   fbs       303 non-null    int64  \n",
      " 6   restecg   303 non-null    int64  \n",
      " 7   thalach   303 non-null    int64  \n",
      " 8   exang     303 non-null    int64  \n",
      " 9   oldpeak   303 non-null    float64\n",
      " 10  slope     303 non-null    int64  \n",
      " 11  ca        303 non-null    int64  \n",
      " 12  thal      303 non-null    int64  \n",
      " 13  target    303 non-null    int64  \n",
      "dtypes: float64(1), int64(13)\n",
      "memory usage: 33.3 KB\n"
     ]
    }
   ],
   "source": [
    "df = pd.read_csv('heart.csv', sep=',')\n",
    "df.info()"
   ]
  },
  {
   "cell_type": "code",
   "execution_count": 3,
   "id": "a8aa15b8",
   "metadata": {},
   "outputs": [],
   "source": [
    "y = df.iloc[:,-1].to_numpy()\n",
    "X = df.iloc[:, :-1].to_numpy()\n",
    "#print(y)\n",
    "#print(X)"
   ]
  },
  {
   "cell_type": "code",
   "execution_count": 4,
   "id": "f572287e",
   "metadata": {},
   "outputs": [],
   "source": [
    "X_train, X_test, y_train, y_test = train_test_split(X, y, test_size=0.3, random_state=0)"
   ]
  },
  {
   "cell_type": "code",
   "execution_count": 5,
   "id": "aba617a2",
   "metadata": {},
   "outputs": [
    {
     "data": {
      "text/plain": [
       "SVC()"
      ]
     },
     "execution_count": 5,
     "metadata": {},
     "output_type": "execute_result"
    }
   ],
   "source": [
    "model = SVC()\n",
    "model.fit(X_train, y_train)"
   ]
  },
  {
   "cell_type": "code",
   "execution_count": 6,
   "id": "6f2b80a4",
   "metadata": {},
   "outputs": [
    {
     "name": "stdout",
     "output_type": "stream",
     "text": [
      "Fitting 5 folds for each of 24 candidates, totalling 120 fits\n",
      "[CV 1/5] END ..............C=0.1, kernel=linear;, score=0.791 total time=   0.0s\n",
      "[CV 2/5] END ..............C=0.1, kernel=linear;, score=0.860 total time=   0.0s\n",
      "[CV 3/5] END ..............C=0.1, kernel=linear;, score=0.857 total time=   0.0s\n",
      "[CV 4/5] END ..............C=0.1, kernel=linear;, score=0.762 total time=   0.0s\n",
      "[CV 5/5] END ..............C=0.1, kernel=linear;, score=0.857 total time=   0.0s\n",
      "[CV 1/5] END ................C=0.1, kernel=poly;, score=0.558 total time=   0.0s\n",
      "[CV 2/5] END ................C=0.1, kernel=poly;, score=0.558 total time=   0.0s\n",
      "[CV 3/5] END ................C=0.1, kernel=poly;, score=0.548 total time=   0.0s\n",
      "[CV 4/5] END ................C=0.1, kernel=poly;, score=0.548 total time=   0.0s\n",
      "[CV 5/5] END ................C=0.1, kernel=poly;, score=0.548 total time=   0.0s\n",
      "[CV 1/5] END .................C=0.1, kernel=rbf;, score=0.558 total time=   0.0s\n",
      "[CV 2/5] END .................C=0.1, kernel=rbf;, score=0.558 total time=   0.0s\n",
      "[CV 3/5] END .................C=0.1, kernel=rbf;, score=0.571 total time=   0.0s\n",
      "[CV 4/5] END .................C=0.1, kernel=rbf;, score=0.548 total time=   0.0s\n",
      "[CV 5/5] END .................C=0.1, kernel=rbf;, score=0.548 total time=   0.0s\n",
      "[CV 1/5] END .............C=0.1, kernel=sigmoid;, score=0.558 total time=   0.0s\n",
      "[CV 2/5] END .............C=0.1, kernel=sigmoid;, score=0.558 total time=   0.0s\n",
      "[CV 3/5] END .............C=0.1, kernel=sigmoid;, score=0.571 total time=   0.0s\n",
      "[CV 4/5] END .............C=0.1, kernel=sigmoid;, score=0.548 total time=   0.0s\n",
      "[CV 5/5] END .............C=0.1, kernel=sigmoid;, score=0.548 total time=   0.0s\n",
      "[CV 1/5] END ................C=1, kernel=linear;, score=0.814 total time=   0.1s\n",
      "[CV 2/5] END ................C=1, kernel=linear;, score=0.837 total time=   0.1s\n",
      "[CV 3/5] END ................C=1, kernel=linear;, score=0.810 total time=   0.0s\n",
      "[CV 4/5] END ................C=1, kernel=linear;, score=0.833 total time=   0.0s\n",
      "[CV 5/5] END ................C=1, kernel=linear;, score=0.881 total time=   0.0s\n",
      "[CV 1/5] END ..................C=1, kernel=poly;, score=0.605 total time=   0.0s\n",
      "[CV 2/5] END ..................C=1, kernel=poly;, score=0.721 total time=   0.0s\n",
      "[CV 3/5] END ..................C=1, kernel=poly;, score=0.667 total time=   0.0s\n",
      "[CV 4/5] END ..................C=1, kernel=poly;, score=0.667 total time=   0.0s\n",
      "[CV 5/5] END ..................C=1, kernel=poly;, score=0.667 total time=   0.0s\n",
      "[CV 1/5] END ...................C=1, kernel=rbf;, score=0.581 total time=   0.0s\n",
      "[CV 2/5] END ...................C=1, kernel=rbf;, score=0.651 total time=   0.0s\n",
      "[CV 3/5] END ...................C=1, kernel=rbf;, score=0.667 total time=   0.0s\n",
      "[CV 4/5] END ...................C=1, kernel=rbf;, score=0.619 total time=   0.0s\n",
      "[CV 5/5] END ...................C=1, kernel=rbf;, score=0.643 total time=   0.0s\n",
      "[CV 1/5] END ...............C=1, kernel=sigmoid;, score=0.558 total time=   0.0s\n",
      "[CV 2/5] END ...............C=1, kernel=sigmoid;, score=0.558 total time=   0.0s\n",
      "[CV 3/5] END ...............C=1, kernel=sigmoid;, score=0.571 total time=   0.0s\n",
      "[CV 4/5] END ...............C=1, kernel=sigmoid;, score=0.548 total time=   0.0s\n",
      "[CV 5/5] END ...............C=1, kernel=sigmoid;, score=0.548 total time=   0.0s\n",
      "[CV 1/5] END ...............C=10, kernel=linear;, score=0.814 total time=   1.9s\n",
      "[CV 2/5] END ...............C=10, kernel=linear;, score=0.884 total time=   1.6s\n",
      "[CV 3/5] END ...............C=10, kernel=linear;, score=0.786 total time=   0.9s\n",
      "[CV 4/5] END ...............C=10, kernel=linear;, score=0.762 total time=   0.5s\n",
      "[CV 5/5] END ...............C=10, kernel=linear;, score=0.833 total time=   1.4s\n",
      "[CV 1/5] END .................C=10, kernel=poly;, score=0.581 total time=   0.0s\n",
      "[CV 2/5] END .................C=10, kernel=poly;, score=0.744 total time=   0.0s\n",
      "[CV 3/5] END .................C=10, kernel=poly;, score=0.762 total time=   0.0s\n",
      "[CV 4/5] END .................C=10, kernel=poly;, score=0.667 total time=   0.0s\n",
      "[CV 5/5] END .................C=10, kernel=poly;, score=0.690 total time=   0.0s\n",
      "[CV 1/5] END ..................C=10, kernel=rbf;, score=0.605 total time=   0.0s\n",
      "[CV 2/5] END ..................C=10, kernel=rbf;, score=0.721 total time=   0.0s\n",
      "[CV 3/5] END ..................C=10, kernel=rbf;, score=0.714 total time=   0.0s\n",
      "[CV 4/5] END ..................C=10, kernel=rbf;, score=0.619 total time=   0.0s\n",
      "[CV 5/5] END ..................C=10, kernel=rbf;, score=0.690 total time=   0.0s\n",
      "[CV 1/5] END ..............C=10, kernel=sigmoid;, score=0.512 total time=   0.0s\n",
      "[CV 2/5] END ..............C=10, kernel=sigmoid;, score=0.721 total time=   0.0s\n",
      "[CV 3/5] END ..............C=10, kernel=sigmoid;, score=0.619 total time=   0.0s\n",
      "[CV 4/5] END ..............C=10, kernel=sigmoid;, score=0.643 total time=   0.0s\n",
      "[CV 5/5] END ..............C=10, kernel=sigmoid;, score=0.571 total time=   0.0s\n",
      "[CV 1/5] END ..............C=100, kernel=linear;, score=0.837 total time=   2.8s\n",
      "[CV 2/5] END ..............C=100, kernel=linear;, score=0.884 total time=   3.4s\n",
      "[CV 3/5] END ..............C=100, kernel=linear;, score=0.714 total time=   5.9s\n",
      "[CV 4/5] END ..............C=100, kernel=linear;, score=0.810 total time=   3.5s\n",
      "[CV 5/5] END ..............C=100, kernel=linear;, score=0.905 total time=   3.1s\n",
      "[CV 1/5] END ................C=100, kernel=poly;, score=0.651 total time=   0.0s\n",
      "[CV 2/5] END ................C=100, kernel=poly;, score=0.814 total time=   0.0s\n",
      "[CV 3/5] END ................C=100, kernel=poly;, score=0.786 total time=   0.0s\n",
      "[CV 4/5] END ................C=100, kernel=poly;, score=0.738 total time=   0.0s\n",
      "[CV 5/5] END ................C=100, kernel=poly;, score=0.786 total time=   0.0s\n",
      "[CV 1/5] END .................C=100, kernel=rbf;, score=0.674 total time=   0.0s\n",
      "[CV 2/5] END .................C=100, kernel=rbf;, score=0.698 total time=   0.0s\n",
      "[CV 3/5] END .................C=100, kernel=rbf;, score=0.786 total time=   0.0s\n",
      "[CV 4/5] END .................C=100, kernel=rbf;, score=0.762 total time=   0.0s\n",
      "[CV 5/5] END .................C=100, kernel=rbf;, score=0.738 total time=   0.0s\n",
      "[CV 1/5] END .............C=100, kernel=sigmoid;, score=0.512 total time=   0.0s\n",
      "[CV 2/5] END .............C=100, kernel=sigmoid;, score=0.698 total time=   0.0s\n",
      "[CV 3/5] END .............C=100, kernel=sigmoid;, score=0.667 total time=   0.0s\n",
      "[CV 4/5] END .............C=100, kernel=sigmoid;, score=0.595 total time=   0.0s\n",
      "[CV 5/5] END .............C=100, kernel=sigmoid;, score=0.524 total time=   0.0s\n",
      "[CV 1/5] END .............C=1000, kernel=linear;, score=0.814 total time=   5.3s\n",
      "[CV 2/5] END .............C=1000, kernel=linear;, score=0.837 total time=   8.6s\n",
      "[CV 3/5] END .............C=1000, kernel=linear;, score=0.762 total time=   6.4s\n",
      "[CV 4/5] END .............C=1000, kernel=linear;, score=0.833 total time=   6.7s\n",
      "[CV 5/5] END .............C=1000, kernel=linear;, score=0.857 total time=  27.5s\n",
      "[CV 1/5] END ...............C=1000, kernel=poly;, score=0.721 total time=   0.0s\n",
      "[CV 2/5] END ...............C=1000, kernel=poly;, score=0.791 total time=   0.0s\n",
      "[CV 3/5] END ...............C=1000, kernel=poly;, score=0.881 total time=   0.0s\n",
      "[CV 4/5] END ...............C=1000, kernel=poly;, score=0.786 total time=   0.0s\n",
      "[CV 5/5] END ...............C=1000, kernel=poly;, score=0.857 total time=   0.0s\n",
      "[CV 1/5] END ................C=1000, kernel=rbf;, score=0.721 total time=   0.0s\n",
      "[CV 2/5] END ................C=1000, kernel=rbf;, score=0.767 total time=   0.0s\n",
      "[CV 3/5] END ................C=1000, kernel=rbf;, score=0.905 total time=   0.0s\n",
      "[CV 4/5] END ................C=1000, kernel=rbf;, score=0.810 total time=   0.0s\n",
      "[CV 5/5] END ................C=1000, kernel=rbf;, score=0.833 total time=   0.0s\n",
      "[CV 1/5] END ............C=1000, kernel=sigmoid;, score=0.535 total time=   0.0s\n",
      "[CV 2/5] END ............C=1000, kernel=sigmoid;, score=0.698 total time=   0.0s\n",
      "[CV 3/5] END ............C=1000, kernel=sigmoid;, score=0.643 total time=   0.0s\n",
      "[CV 4/5] END ............C=1000, kernel=sigmoid;, score=0.595 total time=   0.0s\n",
      "[CV 5/5] END ............C=1000, kernel=sigmoid;, score=0.524 total time=   0.0s\n",
      "[CV 1/5] END ............C=10000, kernel=linear;, score=0.791 total time=   4.5s\n"
     ]
    },
    {
     "name": "stdout",
     "output_type": "stream",
     "text": [
      "[CV 2/5] END ............C=10000, kernel=linear;, score=0.837 total time=   6.1s\n",
      "[CV 3/5] END ............C=10000, kernel=linear;, score=0.762 total time=   9.7s\n",
      "[CV 4/5] END ............C=10000, kernel=linear;, score=0.810 total time=   4.7s\n",
      "[CV 5/5] END ............C=10000, kernel=linear;, score=0.833 total time=  17.4s\n",
      "[CV 1/5] END ..............C=10000, kernel=poly;, score=0.744 total time=   0.0s\n",
      "[CV 2/5] END ..............C=10000, kernel=poly;, score=0.767 total time=   0.2s\n",
      "[CV 3/5] END ..............C=10000, kernel=poly;, score=0.810 total time=   0.0s\n",
      "[CV 4/5] END ..............C=10000, kernel=poly;, score=0.786 total time=   0.1s\n",
      "[CV 5/5] END ..............C=10000, kernel=poly;, score=0.810 total time=   0.0s\n",
      "[CV 1/5] END ...............C=10000, kernel=rbf;, score=0.698 total time=   0.0s\n",
      "[CV 2/5] END ...............C=10000, kernel=rbf;, score=0.744 total time=   0.0s\n",
      "[CV 3/5] END ...............C=10000, kernel=rbf;, score=0.833 total time=   0.0s\n",
      "[CV 4/5] END ...............C=10000, kernel=rbf;, score=0.738 total time=   0.0s\n",
      "[CV 5/5] END ...............C=10000, kernel=rbf;, score=0.810 total time=   0.0s\n",
      "[CV 1/5] END ...........C=10000, kernel=sigmoid;, score=0.512 total time=   0.0s\n",
      "[CV 2/5] END ...........C=10000, kernel=sigmoid;, score=0.698 total time=   0.0s\n",
      "[CV 3/5] END ...........C=10000, kernel=sigmoid;, score=0.643 total time=   0.0s\n",
      "[CV 4/5] END ...........C=10000, kernel=sigmoid;, score=0.595 total time=   0.0s\n",
      "[CV 5/5] END ...........C=10000, kernel=sigmoid;, score=0.524 total time=   0.0s\n"
     ]
    },
    {
     "data": {
      "text/plain": [
       "GridSearchCV(estimator=SVC(),\n",
       "             param_grid={'C': [0.1, 1, 10, 100, 1000, 10000],\n",
       "                         'kernel': ['linear', 'poly', 'rbf', 'sigmoid']},\n",
       "             scoring='accuracy', verbose=3)"
      ]
     },
     "execution_count": 6,
     "metadata": {},
     "output_type": "execute_result"
    }
   ],
   "source": [
    "\n",
    "param_grid = {'C': [0.1, 1, 10, 100, 1000,10000],\n",
    "              'kernel': ['linear', 'poly', 'rbf', 'sigmoid']} \n",
    "\n",
    " \n",
    "grid = GridSearchCV(SVC(), param_grid, refit = True, scoring=\"accuracy\", verbose = 3, )\n",
    "grid.fit(X_train, y_train)"
   ]
  },
  {
   "cell_type": "code",
   "execution_count": 7,
   "id": "76e11898",
   "metadata": {},
   "outputs": [
    {
     "name": "stdout",
     "output_type": "stream",
     "text": [
      "{'C': 1, 'kernel': 'linear'}\n",
      "SVC(C=1, kernel='linear') \n",
      "\n",
      "\n",
      "              precision    recall  f1-score   support\n",
      "\n",
      "           0       0.86      0.73      0.79        44\n",
      "           1       0.78      0.89      0.83        47\n",
      "\n",
      "    accuracy                           0.81        91\n",
      "   macro avg       0.82      0.81      0.81        91\n",
      "weighted avg       0.82      0.81      0.81        91\n",
      "\n",
      "Average accuracy for SVC is:  81.31868131868131 %\n"
     ]
    }
   ],
   "source": [
    "print(grid.best_params_)\n",
    "print(grid.best_estimator_, \"\\n\\n\")\n",
    "\n",
    "\n",
    "grid_predictions = grid.predict(X_test)\n",
    "print(classification_report(y_test, grid_predictions))\n",
    "print (\"Average accuracy for SVC is: \", accuracy_score(y_test, grid_predictions) * 100, \"%\")"
   ]
  },
  {
   "cell_type": "code",
   "execution_count": 8,
   "id": "587cefe7",
   "metadata": {},
   "outputs": [
    {
     "name": "stdout",
     "output_type": "stream",
     "text": [
      "[[32 12]\n",
      " [ 5 42]]\n"
     ]
    },
    {
     "name": "stderr",
     "output_type": "stream",
     "text": [
      "C:\\Users\\Marceli\\AppData\\Local\\Packages\\PythonSoftwareFoundation.Python.3.9_qbz5n2kfra8p0\\LocalCache\\local-packages\\Python39\\site-packages\\sklearn\\utils\\deprecation.py:87: FutureWarning: Function plot_confusion_matrix is deprecated; Function `plot_confusion_matrix` is deprecated in 1.0 and will be removed in 1.2. Use one of the class methods: ConfusionMatrixDisplay.from_predictions or ConfusionMatrixDisplay.from_estimator.\n",
      "  warnings.warn(msg, category=FutureWarning)\n"
     ]
    },
    {
     "data": {
      "image/png": "[encoded data removed]",
      "text/plain": [
       "<Figure size 432x288 with 2 Axes>"
      ]
     },
     "metadata": {
      "needs_background": "light"
     },
     "output_type": "display_data"
    }
   ],
   "source": [
    "print(confusion_matrix(y_test, grid_predictions))\n",
    "plot = plot_confusion_matrix(grid, X_test, y_test, normalize=None)\n",
    "plt.show()"
   ]
  }
 ],
 "metadata": {
  "kernelspec": {
   "display_name": "Python 3 (ipykernel)",
   "language": "python",
   "name": "python3"
  },
  "language_info": {
   "codemirror_mode": {
    "name": "ipython",
    "version": 3
   },
   "file_extension": ".py",
   "mimetype": "text/x-python",
   "name": "python",
   "nbconvert_exporter": "python",
   "pygments_lexer": "ipython3",
   "version": "3.9.12"
  }
 },
 "nbformat": 4,
 "nbformat_minor": 5
}
